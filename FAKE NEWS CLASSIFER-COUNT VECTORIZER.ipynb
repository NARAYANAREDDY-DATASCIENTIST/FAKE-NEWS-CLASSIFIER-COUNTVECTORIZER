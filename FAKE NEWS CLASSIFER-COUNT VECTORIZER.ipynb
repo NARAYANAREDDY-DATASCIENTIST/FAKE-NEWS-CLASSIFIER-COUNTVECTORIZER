{
 "cells": [
  {
   "cell_type": "markdown",
   "metadata": {},
   "source": [
    "# FAKE NEWS CLASSIFER-TFIDF AND HASHINGVECTORIZER"
   ]
  },
  {
   "cell_type": "code",
   "execution_count": 1,
   "metadata": {},
   "outputs": [],
   "source": [
    "# IMPORT LIBARIES"
   ]
  },
  {
   "cell_type": "code",
   "execution_count": 2,
   "metadata": {},
   "outputs": [],
   "source": [
    "import pandas as pd"
   ]
  },
  {
   "cell_type": "code",
   "execution_count": 3,
   "metadata": {},
   "outputs": [],
   "source": [
    "df=pd.read_csv('FAKENEWS/train.csv')"
   ]
  },
  {
   "cell_type": "code",
   "execution_count": 4,
   "metadata": {},
   "outputs": [
    {
     "data": {
      "text/html": [
       "<div>\n",
       "<style scoped>\n",
       "    .dataframe tbody tr th:only-of-type {\n",
       "        vertical-align: middle;\n",
       "    }\n",
       "\n",
       "    .dataframe tbody tr th {\n",
       "        vertical-align: top;\n",
       "    }\n",
       "\n",
       "    .dataframe thead th {\n",
       "        text-align: right;\n",
       "    }\n",
       "</style>\n",
       "<table border=\"1\" class=\"dataframe\">\n",
       "  <thead>\n",
       "    <tr style=\"text-align: right;\">\n",
       "      <th></th>\n",
       "      <th>id</th>\n",
       "      <th>title</th>\n",
       "      <th>author</th>\n",
       "      <th>text</th>\n",
       "      <th>label</th>\n",
       "    </tr>\n",
       "  </thead>\n",
       "  <tbody>\n",
       "    <tr>\n",
       "      <td>0</td>\n",
       "      <td>0</td>\n",
       "      <td>House Dem Aide: We Didn’t Even See Comey’s Let...</td>\n",
       "      <td>Darrell Lucus</td>\n",
       "      <td>House Dem Aide: We Didn’t Even See Comey’s Let...</td>\n",
       "      <td>1</td>\n",
       "    </tr>\n",
       "    <tr>\n",
       "      <td>1</td>\n",
       "      <td>1</td>\n",
       "      <td>FLYNN: Hillary Clinton, Big Woman on Campus - ...</td>\n",
       "      <td>Daniel J. Flynn</td>\n",
       "      <td>Ever get the feeling your life circles the rou...</td>\n",
       "      <td>0</td>\n",
       "    </tr>\n",
       "    <tr>\n",
       "      <td>2</td>\n",
       "      <td>2</td>\n",
       "      <td>Why the Truth Might Get You Fired</td>\n",
       "      <td>Consortiumnews.com</td>\n",
       "      <td>Why the Truth Might Get You Fired October 29, ...</td>\n",
       "      <td>1</td>\n",
       "    </tr>\n",
       "    <tr>\n",
       "      <td>3</td>\n",
       "      <td>3</td>\n",
       "      <td>15 Civilians Killed In Single US Airstrike Hav...</td>\n",
       "      <td>Jessica Purkiss</td>\n",
       "      <td>Videos 15 Civilians Killed In Single US Airstr...</td>\n",
       "      <td>1</td>\n",
       "    </tr>\n",
       "    <tr>\n",
       "      <td>4</td>\n",
       "      <td>4</td>\n",
       "      <td>Iranian woman jailed for fictional unpublished...</td>\n",
       "      <td>Howard Portnoy</td>\n",
       "      <td>Print \\nAn Iranian woman has been sentenced to...</td>\n",
       "      <td>1</td>\n",
       "    </tr>\n",
       "  </tbody>\n",
       "</table>\n",
       "</div>"
      ],
      "text/plain": [
       "   id                                              title              author  \\\n",
       "0   0  House Dem Aide: We Didn’t Even See Comey’s Let...       Darrell Lucus   \n",
       "1   1  FLYNN: Hillary Clinton, Big Woman on Campus - ...     Daniel J. Flynn   \n",
       "2   2                  Why the Truth Might Get You Fired  Consortiumnews.com   \n",
       "3   3  15 Civilians Killed In Single US Airstrike Hav...     Jessica Purkiss   \n",
       "4   4  Iranian woman jailed for fictional unpublished...      Howard Portnoy   \n",
       "\n",
       "                                                text  label  \n",
       "0  House Dem Aide: We Didn’t Even See Comey’s Let...      1  \n",
       "1  Ever get the feeling your life circles the rou...      0  \n",
       "2  Why the Truth Might Get You Fired October 29, ...      1  \n",
       "3  Videos 15 Civilians Killed In Single US Airstr...      1  \n",
       "4  Print \\nAn Iranian woman has been sentenced to...      1  "
      ]
     },
     "execution_count": 4,
     "metadata": {},
     "output_type": "execute_result"
    }
   ],
   "source": [
    "df.head()"
   ]
  },
  {
   "cell_type": "code",
   "execution_count": 5,
   "metadata": {},
   "outputs": [],
   "source": [
    "# sampling the data\n",
    "df1=df.sample(frac=0.005,random_state=0)\n"
   ]
  },
  {
   "cell_type": "code",
   "execution_count": 6,
   "metadata": {},
   "outputs": [],
   "source": [
    "# SEPARATE THE DATA INTO INDPENDENT AND DEPEDENT DATA"
   ]
  },
  {
   "cell_type": "code",
   "execution_count": 7,
   "metadata": {},
   "outputs": [],
   "source": [
    "x=df1.drop('label',axis=1)"
   ]
  },
  {
   "cell_type": "code",
   "execution_count": 8,
   "metadata": {},
   "outputs": [
    {
     "data": {
      "text/html": [
       "<div>\n",
       "<style scoped>\n",
       "    .dataframe tbody tr th:only-of-type {\n",
       "        vertical-align: middle;\n",
       "    }\n",
       "\n",
       "    .dataframe tbody tr th {\n",
       "        vertical-align: top;\n",
       "    }\n",
       "\n",
       "    .dataframe thead th {\n",
       "        text-align: right;\n",
       "    }\n",
       "</style>\n",
       "<table border=\"1\" class=\"dataframe\">\n",
       "  <thead>\n",
       "    <tr style=\"text-align: right;\">\n",
       "      <th></th>\n",
       "      <th>id</th>\n",
       "      <th>title</th>\n",
       "      <th>author</th>\n",
       "      <th>text</th>\n",
       "    </tr>\n",
       "  </thead>\n",
       "  <tbody>\n",
       "    <tr>\n",
       "      <td>20386</td>\n",
       "      <td>20386</td>\n",
       "      <td>Bob Dylan’s Nobel Prize: A Podcast Discussion ...</td>\n",
       "      <td>Jon Pareles</td>\n",
       "      <td>Listen to this week’s podcast | Subscribe: iTu...</td>\n",
       "    </tr>\n",
       "    <tr>\n",
       "      <td>16794</td>\n",
       "      <td>16794</td>\n",
       "      <td>Nuclear Weapons in South Korea under Discussio...</td>\n",
       "      <td>Author</td>\n",
       "      <td>Country: South Korea In October 2016, the Pres...</td>\n",
       "    </tr>\n",
       "    <tr>\n",
       "      <td>5500</td>\n",
       "      <td>5500</td>\n",
       "      <td>Solar Storm Alert</td>\n",
       "      <td>No Author</td>\n",
       "      <td>October 27, 2016 Solar winds triggered a giant...</td>\n",
       "    </tr>\n",
       "    <tr>\n",
       "      <td>9398</td>\n",
       "      <td>9398</td>\n",
       "      <td>Keith Lamont Scott Was Killed by Two Gunshot W...</td>\n",
       "      <td>Niraj Chokshi</td>\n",
       "      <td>A    black man whose fatal shooting by the pol...</td>\n",
       "    </tr>\n",
       "    <tr>\n",
       "      <td>4266</td>\n",
       "      <td>4266</td>\n",
       "      <td>Tom Cotton: Paul Ryan’s Healthcare Bill Does N...</td>\n",
       "      <td>Matthew Boyle</td>\n",
       "      <td>Sen. Tom Cotton ( ) a leading GOP senator, is ...</td>\n",
       "    </tr>\n",
       "  </tbody>\n",
       "</table>\n",
       "</div>"
      ],
      "text/plain": [
       "          id                                              title  \\\n",
       "20386  20386  Bob Dylan’s Nobel Prize: A Podcast Discussion ...   \n",
       "16794  16794  Nuclear Weapons in South Korea under Discussio...   \n",
       "5500    5500                                  Solar Storm Alert   \n",
       "9398    9398  Keith Lamont Scott Was Killed by Two Gunshot W...   \n",
       "4266    4266  Tom Cotton: Paul Ryan’s Healthcare Bill Does N...   \n",
       "\n",
       "              author                                               text  \n",
       "20386    Jon Pareles  Listen to this week’s podcast | Subscribe: iTu...  \n",
       "16794         Author  Country: South Korea In October 2016, the Pres...  \n",
       "5500       No Author  October 27, 2016 Solar winds triggered a giant...  \n",
       "9398   Niraj Chokshi  A    black man whose fatal shooting by the pol...  \n",
       "4266   Matthew Boyle  Sen. Tom Cotton ( ) a leading GOP senator, is ...  "
      ]
     },
     "execution_count": 8,
     "metadata": {},
     "output_type": "execute_result"
    }
   ],
   "source": [
    "x.head()"
   ]
  },
  {
   "cell_type": "code",
   "execution_count": 9,
   "metadata": {},
   "outputs": [],
   "source": [
    "y=df1['label']"
   ]
  },
  {
   "cell_type": "code",
   "execution_count": 10,
   "metadata": {},
   "outputs": [
    {
     "data": {
      "text/plain": [
       "20386    0\n",
       "16794    1\n",
       "5500     1\n",
       "9398     0\n",
       "4266     0\n",
       "Name: label, dtype: int64"
      ]
     },
     "execution_count": 10,
     "metadata": {},
     "output_type": "execute_result"
    }
   ],
   "source": [
    "y.head()"
   ]
  },
  {
   "cell_type": "code",
   "execution_count": 11,
   "metadata": {},
   "outputs": [
    {
     "data": {
      "text/plain": [
       "(104, 5)"
      ]
     },
     "execution_count": 11,
     "metadata": {},
     "output_type": "execute_result"
    }
   ],
   "source": [
    "df1.shape"
   ]
  },
  {
   "cell_type": "code",
   "execution_count": 12,
   "metadata": {},
   "outputs": [],
   "source": [
    "# PREPROCESSING DATA"
   ]
  },
  {
   "cell_type": "code",
   "execution_count": 13,
   "metadata": {},
   "outputs": [],
   "source": [
    "df1=df1.dropna()"
   ]
  },
  {
   "cell_type": "code",
   "execution_count": 14,
   "metadata": {},
   "outputs": [
    {
     "data": {
      "text/html": [
       "<div>\n",
       "<style scoped>\n",
       "    .dataframe tbody tr th:only-of-type {\n",
       "        vertical-align: middle;\n",
       "    }\n",
       "\n",
       "    .dataframe tbody tr th {\n",
       "        vertical-align: top;\n",
       "    }\n",
       "\n",
       "    .dataframe thead th {\n",
       "        text-align: right;\n",
       "    }\n",
       "</style>\n",
       "<table border=\"1\" class=\"dataframe\">\n",
       "  <thead>\n",
       "    <tr style=\"text-align: right;\">\n",
       "      <th></th>\n",
       "      <th>id</th>\n",
       "      <th>title</th>\n",
       "      <th>author</th>\n",
       "      <th>text</th>\n",
       "      <th>label</th>\n",
       "    </tr>\n",
       "  </thead>\n",
       "  <tbody>\n",
       "    <tr>\n",
       "      <td>20386</td>\n",
       "      <td>20386</td>\n",
       "      <td>Bob Dylan’s Nobel Prize: A Podcast Discussion ...</td>\n",
       "      <td>Jon Pareles</td>\n",
       "      <td>Listen to this week’s podcast | Subscribe: iTu...</td>\n",
       "      <td>0</td>\n",
       "    </tr>\n",
       "    <tr>\n",
       "      <td>16794</td>\n",
       "      <td>16794</td>\n",
       "      <td>Nuclear Weapons in South Korea under Discussio...</td>\n",
       "      <td>Author</td>\n",
       "      <td>Country: South Korea In October 2016, the Pres...</td>\n",
       "      <td>1</td>\n",
       "    </tr>\n",
       "    <tr>\n",
       "      <td>5500</td>\n",
       "      <td>5500</td>\n",
       "      <td>Solar Storm Alert</td>\n",
       "      <td>No Author</td>\n",
       "      <td>October 27, 2016 Solar winds triggered a giant...</td>\n",
       "      <td>1</td>\n",
       "    </tr>\n",
       "    <tr>\n",
       "      <td>9398</td>\n",
       "      <td>9398</td>\n",
       "      <td>Keith Lamont Scott Was Killed by Two Gunshot W...</td>\n",
       "      <td>Niraj Chokshi</td>\n",
       "      <td>A    black man whose fatal shooting by the pol...</td>\n",
       "      <td>0</td>\n",
       "    </tr>\n",
       "    <tr>\n",
       "      <td>4266</td>\n",
       "      <td>4266</td>\n",
       "      <td>Tom Cotton: Paul Ryan’s Healthcare Bill Does N...</td>\n",
       "      <td>Matthew Boyle</td>\n",
       "      <td>Sen. Tom Cotton ( ) a leading GOP senator, is ...</td>\n",
       "      <td>0</td>\n",
       "    </tr>\n",
       "  </tbody>\n",
       "</table>\n",
       "</div>"
      ],
      "text/plain": [
       "          id                                              title  \\\n",
       "20386  20386  Bob Dylan’s Nobel Prize: A Podcast Discussion ...   \n",
       "16794  16794  Nuclear Weapons in South Korea under Discussio...   \n",
       "5500    5500                                  Solar Storm Alert   \n",
       "9398    9398  Keith Lamont Scott Was Killed by Two Gunshot W...   \n",
       "4266    4266  Tom Cotton: Paul Ryan’s Healthcare Bill Does N...   \n",
       "\n",
       "              author                                               text  label  \n",
       "20386    Jon Pareles  Listen to this week’s podcast | Subscribe: iTu...      0  \n",
       "16794         Author  Country: South Korea In October 2016, the Pres...      1  \n",
       "5500       No Author  October 27, 2016 Solar winds triggered a giant...      1  \n",
       "9398   Niraj Chokshi  A    black man whose fatal shooting by the pol...      0  \n",
       "4266   Matthew Boyle  Sen. Tom Cotton ( ) a leading GOP senator, is ...      0  "
      ]
     },
     "execution_count": 14,
     "metadata": {},
     "output_type": "execute_result"
    }
   ],
   "source": [
    "df1.head()"
   ]
  },
  {
   "cell_type": "code",
   "execution_count": 15,
   "metadata": {},
   "outputs": [
    {
     "data": {
      "text/html": [
       "<div>\n",
       "<style scoped>\n",
       "    .dataframe tbody tr th:only-of-type {\n",
       "        vertical-align: middle;\n",
       "    }\n",
       "\n",
       "    .dataframe tbody tr th {\n",
       "        vertical-align: top;\n",
       "    }\n",
       "\n",
       "    .dataframe thead th {\n",
       "        text-align: right;\n",
       "    }\n",
       "</style>\n",
       "<table border=\"1\" class=\"dataframe\">\n",
       "  <thead>\n",
       "    <tr style=\"text-align: right;\">\n",
       "      <th></th>\n",
       "      <th>index</th>\n",
       "      <th>id</th>\n",
       "      <th>title</th>\n",
       "      <th>author</th>\n",
       "      <th>text</th>\n",
       "      <th>label</th>\n",
       "    </tr>\n",
       "  </thead>\n",
       "  <tbody>\n",
       "    <tr>\n",
       "      <td>0</td>\n",
       "      <td>20386</td>\n",
       "      <td>20386</td>\n",
       "      <td>Bob Dylan’s Nobel Prize: A Podcast Discussion ...</td>\n",
       "      <td>Jon Pareles</td>\n",
       "      <td>Listen to this week’s podcast | Subscribe: iTu...</td>\n",
       "      <td>0</td>\n",
       "    </tr>\n",
       "    <tr>\n",
       "      <td>1</td>\n",
       "      <td>16794</td>\n",
       "      <td>16794</td>\n",
       "      <td>Nuclear Weapons in South Korea under Discussio...</td>\n",
       "      <td>Author</td>\n",
       "      <td>Country: South Korea In October 2016, the Pres...</td>\n",
       "      <td>1</td>\n",
       "    </tr>\n",
       "    <tr>\n",
       "      <td>2</td>\n",
       "      <td>5500</td>\n",
       "      <td>5500</td>\n",
       "      <td>Solar Storm Alert</td>\n",
       "      <td>No Author</td>\n",
       "      <td>October 27, 2016 Solar winds triggered a giant...</td>\n",
       "      <td>1</td>\n",
       "    </tr>\n",
       "    <tr>\n",
       "      <td>3</td>\n",
       "      <td>9398</td>\n",
       "      <td>9398</td>\n",
       "      <td>Keith Lamont Scott Was Killed by Two Gunshot W...</td>\n",
       "      <td>Niraj Chokshi</td>\n",
       "      <td>A    black man whose fatal shooting by the pol...</td>\n",
       "      <td>0</td>\n",
       "    </tr>\n",
       "    <tr>\n",
       "      <td>4</td>\n",
       "      <td>4266</td>\n",
       "      <td>4266</td>\n",
       "      <td>Tom Cotton: Paul Ryan’s Healthcare Bill Does N...</td>\n",
       "      <td>Matthew Boyle</td>\n",
       "      <td>Sen. Tom Cotton ( ) a leading GOP senator, is ...</td>\n",
       "      <td>0</td>\n",
       "    </tr>\n",
       "  </tbody>\n",
       "</table>\n",
       "</div>"
      ],
      "text/plain": [
       "   index     id                                              title  \\\n",
       "0  20386  20386  Bob Dylan’s Nobel Prize: A Podcast Discussion ...   \n",
       "1  16794  16794  Nuclear Weapons in South Korea under Discussio...   \n",
       "2   5500   5500                                  Solar Storm Alert   \n",
       "3   9398   9398  Keith Lamont Scott Was Killed by Two Gunshot W...   \n",
       "4   4266   4266  Tom Cotton: Paul Ryan’s Healthcare Bill Does N...   \n",
       "\n",
       "          author                                               text  label  \n",
       "0    Jon Pareles  Listen to this week’s podcast | Subscribe: iTu...      0  \n",
       "1         Author  Country: South Korea In October 2016, the Pres...      1  \n",
       "2      No Author  October 27, 2016 Solar winds triggered a giant...      1  \n",
       "3  Niraj Chokshi  A    black man whose fatal shooting by the pol...      0  \n",
       "4  Matthew Boyle  Sen. Tom Cotton ( ) a leading GOP senator, is ...      0  "
      ]
     },
     "execution_count": 15,
     "metadata": {},
     "output_type": "execute_result"
    }
   ],
   "source": [
    "\n",
    "messages=df1.copy()\n",
    "messages.reset_index(inplace=True)\n",
    "messages.head()\n"
   ]
  },
  {
   "cell_type": "code",
   "execution_count": 16,
   "metadata": {},
   "outputs": [],
   "source": [
    "from nltk.corpus import stopwords\n",
    "from nltk.stem.porter import PorterStemmer\n",
    "import re\n",
    "ps=PorterStemmer()\n",
    "corpus=[]\n",
    "for i in range(0, len(messages)):\n",
    "    review=re.sub('[^a-zA-Z]',' ',messages['text'][i])\n",
    "    review=review.lower()\n",
    "    review=review.split()\n",
    "    \n",
    "    review=[ps.stem(word) for word in review if not word in stopwords.words('english')]\n",
    "    review=' '.join(review)\n",
    "    corpus.append(review)\n",
    "\n"
   ]
  },
  {
   "cell_type": "code",
   "execution_count": 17,
   "metadata": {},
   "outputs": [
    {
     "data": {
      "text/plain": [
       "'black man whose fatal shoot polic septemb prompt day protest charlott n c die gunshot wound back abdomen accord autopsi perform request famili result releas wednesday show man keith lamont scott shot three time back abdomen wrist mecklenburg counti medic examin offic yet releas result autopsi scott famili author releas inform maintain begin simpli seek transpar charl g monnett lawyer famili said statement continu pursu justic famili autopsi perform sept newberri counti memori hospit morgu newberri patholog associ mr scott sport util vehicl park lot apart complex sept polic offic serv warrant someon els confront roll marijuana cigarett held gun polic said famili disput mr scott arm offic brentley vinson also black fatal shot mr scott whose action perceiv threaten polic said obscur footag shoot releas polic depart mr scott appear threaten although offic heard one point shout drop gun right hand appear empti unclear hold anyth hand shoot immedi drew protest last sever day second night one protest fatal shot'"
      ]
     },
     "execution_count": 17,
     "metadata": {},
     "output_type": "execute_result"
    }
   ],
   "source": [
    "corpus[3]"
   ]
  },
  {
   "cell_type": "code",
   "execution_count": 18,
   "metadata": {},
   "outputs": [],
   "source": [
    "# FEATURE EXRACTION WITH TFIDF"
   ]
  },
  {
   "cell_type": "code",
   "execution_count": 19,
   "metadata": {},
   "outputs": [],
   "source": [
    "from sklearn.feature_extraction.text import CountVectorizer\n",
    "cv=CountVectorizer(max_features=2000,ngram_range=(1,2))\n",
    "X=cv.fit_transform(corpus).toarray()"
   ]
  },
  {
   "cell_type": "code",
   "execution_count": 20,
   "metadata": {},
   "outputs": [
    {
     "data": {
      "text/plain": [
       "(88, 2000)"
      ]
     },
     "execution_count": 20,
     "metadata": {},
     "output_type": "execute_result"
    }
   ],
   "source": [
    "X.shape"
   ]
  },
  {
   "cell_type": "code",
   "execution_count": 21,
   "metadata": {},
   "outputs": [
    {
     "data": {
      "text/plain": [
       "array([0, 0, 0, ..., 0, 0, 0], dtype=int64)"
      ]
     },
     "execution_count": 21,
     "metadata": {},
     "output_type": "execute_result"
    }
   ],
   "source": [
    "X[87]"
   ]
  },
  {
   "cell_type": "code",
   "execution_count": 22,
   "metadata": {},
   "outputs": [
    {
     "data": {
      "text/plain": [
       "(88, 6)"
      ]
     },
     "execution_count": 22,
     "metadata": {},
     "output_type": "execute_result"
    }
   ],
   "source": [
    "messages.shape"
   ]
  },
  {
   "cell_type": "code",
   "execution_count": 23,
   "metadata": {},
   "outputs": [],
   "source": [
    "Y=messages['label']"
   ]
  },
  {
   "cell_type": "code",
   "execution_count": 24,
   "metadata": {},
   "outputs": [
    {
     "data": {
      "text/plain": [
       "(88,)"
      ]
     },
     "execution_count": 24,
     "metadata": {},
     "output_type": "execute_result"
    }
   ],
   "source": [
    "Y.shape"
   ]
  },
  {
   "cell_type": "code",
   "execution_count": 25,
   "metadata": {},
   "outputs": [],
   "source": [
    "# SPLIT THE DATSET INTO TRAIN AND TEST DATA\n"
   ]
  },
  {
   "cell_type": "code",
   "execution_count": 26,
   "metadata": {},
   "outputs": [],
   "source": [
    "from sklearn.model_selection import train_test_split\n",
    "x_train,x_test,y_train,y_test=train_test_split(X,Y,test_size=0.2,random_state=0)"
   ]
  },
  {
   "cell_type": "code",
   "execution_count": 27,
   "metadata": {},
   "outputs": [
    {
     "data": {
      "text/plain": [
       "['aaron',\n",
       " 'abandon',\n",
       " 'abduct',\n",
       " 'abil',\n",
       " 'abl',\n",
       " 'abort',\n",
       " 'absolut',\n",
       " 'accept',\n",
       " 'access',\n",
       " 'accomplish']"
      ]
     },
     "execution_count": 27,
     "metadata": {},
     "output_type": "execute_result"
    }
   ],
   "source": [
    "cv.get_feature_names()[:10]"
   ]
  },
  {
   "cell_type": "code",
   "execution_count": 28,
   "metadata": {},
   "outputs": [
    {
     "data": {
      "text/plain": [
       "{'analyzer': 'word',\n",
       " 'binary': False,\n",
       " 'decode_error': 'strict',\n",
       " 'dtype': numpy.int64,\n",
       " 'encoding': 'utf-8',\n",
       " 'input': 'content',\n",
       " 'lowercase': True,\n",
       " 'max_df': 1.0,\n",
       " 'max_features': 2000,\n",
       " 'min_df': 1,\n",
       " 'ngram_range': (1, 2),\n",
       " 'preprocessor': None,\n",
       " 'stop_words': None,\n",
       " 'strip_accents': None,\n",
       " 'token_pattern': '(?u)\\\\b\\\\w\\\\w+\\\\b',\n",
       " 'tokenizer': None,\n",
       " 'vocabulary': None}"
      ]
     },
     "execution_count": 28,
     "metadata": {},
     "output_type": "execute_result"
    }
   ],
   "source": [
    "cv.get_params()"
   ]
  },
  {
   "cell_type": "code",
   "execution_count": 29,
   "metadata": {},
   "outputs": [],
   "source": [
    "count_df=pd.DataFrame(x_train,columns=cv.get_feature_names())"
   ]
  },
  {
   "cell_type": "code",
   "execution_count": 30,
   "metadata": {},
   "outputs": [
    {
     "data": {
      "text/html": [
       "<div>\n",
       "<style scoped>\n",
       "    .dataframe tbody tr th:only-of-type {\n",
       "        vertical-align: middle;\n",
       "    }\n",
       "\n",
       "    .dataframe tbody tr th {\n",
       "        vertical-align: top;\n",
       "    }\n",
       "\n",
       "    .dataframe thead th {\n",
       "        text-align: right;\n",
       "    }\n",
       "</style>\n",
       "<table border=\"1\" class=\"dataframe\">\n",
       "  <thead>\n",
       "    <tr style=\"text-align: right;\">\n",
       "      <th></th>\n",
       "      <th>aaron</th>\n",
       "      <th>abandon</th>\n",
       "      <th>abduct</th>\n",
       "      <th>abil</th>\n",
       "      <th>abl</th>\n",
       "      <th>abort</th>\n",
       "      <th>absolut</th>\n",
       "      <th>accept</th>\n",
       "      <th>access</th>\n",
       "      <th>accomplish</th>\n",
       "      <th>...</th>\n",
       "      <th>yesterday</th>\n",
       "      <th>yet</th>\n",
       "      <th>york</th>\n",
       "      <th>york time</th>\n",
       "      <th>young</th>\n",
       "      <th>yuan</th>\n",
       "      <th>zero</th>\n",
       "      <th>zero hedg</th>\n",
       "      <th>ziegler</th>\n",
       "      <th>zucker</th>\n",
       "    </tr>\n",
       "  </thead>\n",
       "  <tbody>\n",
       "    <tr>\n",
       "      <td>0</td>\n",
       "      <td>0</td>\n",
       "      <td>0</td>\n",
       "      <td>0</td>\n",
       "      <td>0</td>\n",
       "      <td>0</td>\n",
       "      <td>0</td>\n",
       "      <td>0</td>\n",
       "      <td>0</td>\n",
       "      <td>0</td>\n",
       "      <td>0</td>\n",
       "      <td>...</td>\n",
       "      <td>0</td>\n",
       "      <td>1</td>\n",
       "      <td>0</td>\n",
       "      <td>0</td>\n",
       "      <td>0</td>\n",
       "      <td>0</td>\n",
       "      <td>0</td>\n",
       "      <td>0</td>\n",
       "      <td>0</td>\n",
       "      <td>0</td>\n",
       "    </tr>\n",
       "    <tr>\n",
       "      <td>1</td>\n",
       "      <td>0</td>\n",
       "      <td>0</td>\n",
       "      <td>0</td>\n",
       "      <td>0</td>\n",
       "      <td>2</td>\n",
       "      <td>0</td>\n",
       "      <td>0</td>\n",
       "      <td>0</td>\n",
       "      <td>0</td>\n",
       "      <td>0</td>\n",
       "      <td>...</td>\n",
       "      <td>0</td>\n",
       "      <td>2</td>\n",
       "      <td>1</td>\n",
       "      <td>0</td>\n",
       "      <td>0</td>\n",
       "      <td>0</td>\n",
       "      <td>0</td>\n",
       "      <td>0</td>\n",
       "      <td>0</td>\n",
       "      <td>0</td>\n",
       "    </tr>\n",
       "    <tr>\n",
       "      <td>2</td>\n",
       "      <td>0</td>\n",
       "      <td>0</td>\n",
       "      <td>0</td>\n",
       "      <td>0</td>\n",
       "      <td>0</td>\n",
       "      <td>0</td>\n",
       "      <td>1</td>\n",
       "      <td>0</td>\n",
       "      <td>0</td>\n",
       "      <td>0</td>\n",
       "      <td>...</td>\n",
       "      <td>0</td>\n",
       "      <td>1</td>\n",
       "      <td>2</td>\n",
       "      <td>0</td>\n",
       "      <td>0</td>\n",
       "      <td>0</td>\n",
       "      <td>0</td>\n",
       "      <td>0</td>\n",
       "      <td>0</td>\n",
       "      <td>0</td>\n",
       "    </tr>\n",
       "    <tr>\n",
       "      <td>3</td>\n",
       "      <td>0</td>\n",
       "      <td>0</td>\n",
       "      <td>0</td>\n",
       "      <td>0</td>\n",
       "      <td>0</td>\n",
       "      <td>0</td>\n",
       "      <td>0</td>\n",
       "      <td>0</td>\n",
       "      <td>0</td>\n",
       "      <td>0</td>\n",
       "      <td>...</td>\n",
       "      <td>0</td>\n",
       "      <td>0</td>\n",
       "      <td>0</td>\n",
       "      <td>0</td>\n",
       "      <td>0</td>\n",
       "      <td>0</td>\n",
       "      <td>0</td>\n",
       "      <td>0</td>\n",
       "      <td>0</td>\n",
       "      <td>0</td>\n",
       "    </tr>\n",
       "    <tr>\n",
       "      <td>4</td>\n",
       "      <td>0</td>\n",
       "      <td>0</td>\n",
       "      <td>0</td>\n",
       "      <td>0</td>\n",
       "      <td>0</td>\n",
       "      <td>0</td>\n",
       "      <td>0</td>\n",
       "      <td>0</td>\n",
       "      <td>0</td>\n",
       "      <td>0</td>\n",
       "      <td>...</td>\n",
       "      <td>0</td>\n",
       "      <td>0</td>\n",
       "      <td>3</td>\n",
       "      <td>0</td>\n",
       "      <td>0</td>\n",
       "      <td>0</td>\n",
       "      <td>1</td>\n",
       "      <td>1</td>\n",
       "      <td>0</td>\n",
       "      <td>0</td>\n",
       "    </tr>\n",
       "  </tbody>\n",
       "</table>\n",
       "<p>5 rows × 2000 columns</p>\n",
       "</div>"
      ],
      "text/plain": [
       "   aaron  abandon  abduct  abil  abl  abort  absolut  accept  access  \\\n",
       "0      0        0       0     0    0      0        0       0       0   \n",
       "1      0        0       0     0    2      0        0       0       0   \n",
       "2      0        0       0     0    0      0        1       0       0   \n",
       "3      0        0       0     0    0      0        0       0       0   \n",
       "4      0        0       0     0    0      0        0       0       0   \n",
       "\n",
       "   accomplish  ...  yesterday  yet  york  york time  young  yuan  zero  \\\n",
       "0           0  ...          0    1     0          0      0     0     0   \n",
       "1           0  ...          0    2     1          0      0     0     0   \n",
       "2           0  ...          0    1     2          0      0     0     0   \n",
       "3           0  ...          0    0     0          0      0     0     0   \n",
       "4           0  ...          0    0     3          0      0     0     1   \n",
       "\n",
       "   zero hedg  ziegler  zucker  \n",
       "0          0        0       0  \n",
       "1          0        0       0  \n",
       "2          0        0       0  \n",
       "3          0        0       0  \n",
       "4          1        0       0  \n",
       "\n",
       "[5 rows x 2000 columns]"
      ]
     },
     "execution_count": 30,
     "metadata": {},
     "output_type": "execute_result"
    }
   ],
   "source": [
    "count_df.head()"
   ]
  },
  {
   "cell_type": "code",
   "execution_count": 31,
   "metadata": {},
   "outputs": [],
   "source": [
    "# plot function for confusion matrix"
   ]
  },
  {
   "cell_type": "code",
   "execution_count": 32,
   "metadata": {},
   "outputs": [],
   "source": [
    "import matplotlib.pyplot as plt"
   ]
  },
  {
   "cell_type": "code",
   "execution_count": 33,
   "metadata": {},
   "outputs": [],
   "source": [
    "def plot_confusion_matrix(cm,classes,\n",
    "                          normalize=False,\n",
    "                          title='Confusion Matrix',\n",
    "                          cmap=plt.cm.Blues):\n",
    "    \"\"\"\n",
    "    See full source and example: \n",
    "    http://scikit-learn.org/stable/auto_examples/model_selection/plot_confusion_matrix.html\n",
    "    \n",
    "    This function prints and plots the confusion matrix.\n",
    "    Normalization can be applied by setting `normalize=True`.\n",
    "    \"\"\"\n",
    "    plt.imshow(cm, interpolation='nearest',cmap=cmap)\n",
    "    plt.title(title)\n",
    "    plt.colorbar()\n",
    "    tick_marks=np.arange(len(classes))\n",
    "    plt.xticks(tick_marks, classes, rotation=45)\n",
    "    plt.yticks(tick_marks, classes)\n",
    "    \n",
    "    if normalize:\n",
    "        cm=cm.astype('float') /cm.sum(axis=1)[:, np.newaxis]\n",
    "        print(\"Normalized Confusion Matrix\")\n",
    "    else:\n",
    "        print(\"Confusion Matrix Without Normalization\")\n",
    "        \n",
    "    thresh=cm.max()/2.\n",
    "    for i,j in itertools.product(range(cm.shape[0]), range(cm.shape[1])):\n",
    "            plt.text(j,i, cm[i,j],\n",
    "                     horizontalalignment=\"center\",\n",
    "                     color = \"white\" if cm[i,j] > thresh else \"black\")\n",
    "            \n",
    "    plt.tight_layout()\n",
    "    plt.xlabel('Predicted Label')\n",
    "    plt.ylabel('Actual labels')\n",
    "            \n",
    "    \n",
    "        \n",
    "    "
   ]
  },
  {
   "cell_type": "markdown",
   "metadata": {},
   "source": [
    "# MULTINOMIALNB ALGOARITHM"
   ]
  },
  {
   "cell_type": "code",
   "execution_count": 34,
   "metadata": {},
   "outputs": [],
   "source": [
    "from sklearn.naive_bayes import MultinomialNB\n",
    "classifier=MultinomialNB()"
   ]
  },
  {
   "cell_type": "code",
   "execution_count": 35,
   "metadata": {},
   "outputs": [],
   "source": [
    "from sklearn import metrics\n",
    "import numpy as np\n",
    "import itertools"
   ]
  },
  {
   "cell_type": "code",
   "execution_count": 36,
   "metadata": {},
   "outputs": [
    {
     "name": "stdout",
     "output_type": "stream",
     "text": [
      "accuracy: 0.833\n",
      "Confusion Matrix Without Normalization\n"
     ]
    },
    {
     "data": {
      "image/png": "[encoded data removed]",
      "text/plain": [
       "<Figure size 432x288 with 2 Axes>"
      ]
     },
     "metadata": {
      "needs_background": "light"
     },
     "output_type": "display_data"
    }
   ],
   "source": [
    "classifier.fit(x_train,y_train)\n",
    "y_pred=classifier.predict(x_test)\n",
    "score=metrics.accuracy_score(y_test,y_pred)\n",
    "print(\"accuracy: %0.3f\"% score)\n",
    "cm = metrics.confusion_matrix(y_test,y_pred)\n",
    "plot_confusion_matrix(cm, classes=['FAKE','REAL'])"
   ]
  },
  {
   "cell_type": "code",
   "execution_count": 37,
   "metadata": {},
   "outputs": [
    {
     "data": {
      "text/plain": [
       "array([[8, 1],\n",
       "       [2, 7]], dtype=int64)"
      ]
     },
     "execution_count": 37,
     "metadata": {},
     "output_type": "execute_result"
    }
   ],
   "source": [
    "cm"
   ]
  },
  {
   "cell_type": "code",
   "execution_count": 38,
   "metadata": {},
   "outputs": [],
   "source": [
    "# plot confusion matrix with scikit learn"
   ]
  },
  {
   "cell_type": "code",
   "execution_count": 39,
   "metadata": {},
   "outputs": [
    {
     "name": "stdout",
     "output_type": "stream",
     "text": [
      "accuracy: 0.833\n",
      "Confusion matrix without normalization\n",
      "[[8 1]\n",
      " [2 7]]\n",
      "Normalized confusion matrix\n",
      "[[0.88888889 0.11111111]\n",
      " [0.22222222 0.77777778]]\n"
     ]
    },
    {
     "data": {
      "image/png": "[encoded data removed]",
      "text/plain": [
       "<Figure size 432x288 with 2 Axes>"
      ]
     },
     "metadata": {
      "needs_background": "light"
     },
     "output_type": "display_data"
    },
    {
     "data": {
      "image/png": "[encoded data removed]",
      "text/plain": [
       "<Figure size 432x288 with 2 Axes>"
      ]
     },
     "metadata": {
      "needs_background": "light"
     },
     "output_type": "display_data"
    }
   ],
   "source": [
    "\n",
    "classifier1=classifier.fit(x_train,y_train)\n",
    "y_pred=classifier1.predict(x_test)\n",
    "score=metrics.accuracy_score(y_test,y_pred)\n",
    "print(\"accuracy: %0.3f\"% score)\n",
    "\n",
    "\n",
    "from sklearn.metrics import plot_confusion_matrix\n",
    "titles_options = [(\"Confusion matrix without normalization\", None),\n",
    "                  (\"Normalized confusion matrix\", 'true')]\n",
    "for title, normalize in titles_options:\n",
    "    \n",
    "    disp=plot_confusion_matrix(classifier1,x_test,y_test,\n",
    "                              cmap=plt.cm.Blues,\n",
    "                              normalize=normalize)\n",
    "    disp.ax_.set_title(title)\n",
    "\n",
    "    print(title)\n",
    "    print(disp.confusion_matrix)\n",
    "\n"
   ]
  },
  {
   "cell_type": "markdown",
   "metadata": {},
   "source": [
    "# PASSIVE AGGRESSIVE CLASSIFIER ALGORITHM"
   ]
  },
  {
   "cell_type": "code",
   "execution_count": 40,
   "metadata": {},
   "outputs": [
    {
     "data": {
      "text/plain": [
       "PassiveAggressiveClassifier(C=1.0, average=False, class_weight=None,\n",
       "                            early_stopping=False, fit_intercept=True,\n",
       "                            loss='hinge', max_iter=1000, n_iter_no_change=5,\n",
       "                            n_jobs=None, random_state=None, shuffle=True,\n",
       "                            tol=0.001, validation_fraction=0.1, verbose=0,\n",
       "                            warm_start=False)"
      ]
     },
     "execution_count": 40,
     "metadata": {},
     "output_type": "execute_result"
    }
   ],
   "source": [
    "from sklearn.linear_model import PassiveAggressiveClassifier\n",
    "linear_clf=PassiveAggressiveClassifier()\n",
    "linear_clf.fit(x_train,y_train)\n"
   ]
  },
  {
   "cell_type": "code",
   "execution_count": 41,
   "metadata": {},
   "outputs": [
    {
     "name": "stdout",
     "output_type": "stream",
     "text": [
      "accuracy: 0.833\n",
      "Confusion matrix without normalization\n",
      "[[6 3]\n",
      " [0 9]]\n",
      "Normalized confusion matrix\n",
      "[[0.66666667 0.33333333]\n",
      " [0.         1.        ]]\n"
     ]
    },
    {
     "data": {
      "image/png": "[encoded data removed]",
      "text/plain": [
       "<Figure size 432x288 with 2 Axes>"
      ]
     },
     "metadata": {
      "needs_background": "light"
     },
     "output_type": "display_data"
    },
    {
     "data": {
      "image/png": "[encoded data removed]",
      "text/plain": [
       "<Figure size 432x288 with 2 Axes>"
      ]
     },
     "metadata": {
      "needs_background": "light"
     },
     "output_type": "display_data"
    }
   ],
   "source": [
    "y_pred=linear_clf.predict(x_test)\n",
    "score=metrics.accuracy_score(y_test,y_pred)\n",
    "print(\"accuracy: %0.3f\"% score)\n",
    "\n",
    "\n",
    "from sklearn.metrics import plot_confusion_matrix\n",
    "titles_options = [(\"Confusion matrix without normalization\", None),\n",
    "                  (\"Normalized confusion matrix\", 'true')]\n",
    "for title, normalize in titles_options:\n",
    "    disp=plot_confusion_matrix(linear_clf,x_test,y_test,\n",
    "                              cmap=plt.cm.Blues,\n",
    "                              normalize=normalize)\n",
    "    disp.ax_.set_title(title)\n",
    "\n",
    "    print(title)\n",
    "    print(disp.confusion_matrix)"
   ]
  },
  {
   "cell_type": "markdown",
   "metadata": {},
   "source": [
    "# MULTINOMIAL CLASSIFIER WITH HYPERPARAMETER"
   ]
  },
  {
   "cell_type": "code",
   "execution_count": 42,
   "metadata": {},
   "outputs": [],
   "source": [
    "classifier=MultinomialNB(alpha=0.1)"
   ]
  },
  {
   "cell_type": "code",
   "execution_count": 43,
   "metadata": {},
   "outputs": [
    {
     "name": "stdout",
     "output_type": "stream",
     "text": [
      "Alpha: 0.0, score: 0.7222222222222222\n",
      "Alpha: 0.1, score: 0.7777777777777778\n",
      "Alpha: 0.2, score: 0.7777777777777778\n",
      "Alpha: 0.30000000000000004, score: 0.7777777777777778\n",
      "Alpha: 0.4, score: 0.7777777777777778\n",
      "Alpha: 0.5, score: 0.7777777777777778\n",
      "Alpha: 0.6000000000000001, score: 0.7777777777777778\n",
      "Alpha: 0.7000000000000001, score: 0.7777777777777778\n",
      "Alpha: 0.8, score: 0.7777777777777778\n",
      "Alpha: 0.9, score: 0.8333333333333334\n"
     ]
    },
    {
     "name": "stderr",
     "output_type": "stream",
     "text": [
      "C:\\Users\\UER\\Anaconda3\\lib\\site-packages\\sklearn\\naive_bayes.py:507: UserWarning: alpha too small will result in numeric errors, setting alpha = 1.0e-10\n",
      "  'setting alpha = %.1e' % _ALPHA_MIN)\n"
     ]
    }
   ],
   "source": [
    "previous_score=0\n",
    "for alpha in np.arange(0,1,0.1):\n",
    "    sub_classifier=MultinomialNB(alpha=alpha)\n",
    "    sub_classifier.fit(x_train,y_train)\n",
    "    y_pred=sub_classifier.predict(x_test)\n",
    "    score=metrics.accuracy_score(y_test,y_pred)\n",
    "    if score>previous_score:\n",
    "        classifier=sub_classifier\n",
    "        \n",
    "    print(\"Alpha: {}, score: {}\".format(alpha,score))\n",
    "    \n",
    "    "
   ]
  },
  {
   "cell_type": "code",
   "execution_count": 44,
   "metadata": {},
   "outputs": [],
   "source": [
    "# GET THE FEATURE NAMES\n",
    "feature_names=cv.get_feature_names()"
   ]
  },
  {
   "cell_type": "code",
   "execution_count": 45,
   "metadata": {},
   "outputs": [
    {
     "data": {
      "text/plain": [
       "array([-9.64428495, -8.4742137 , -9.64428495, ..., -7.06238604,\n",
       "       -7.06238604, -9.64428495])"
      ]
     },
     "execution_count": 45,
     "metadata": {},
     "output_type": "execute_result"
    }
   ],
   "source": [
    "classifier.coef_[0]"
   ]
  },
  {
   "cell_type": "code",
   "execution_count": 46,
   "metadata": {},
   "outputs": [
    {
     "data": {
      "text/plain": [
       "[(-4.672159512071836, 'clinton'),\n",
       " (-5.222770545225216, 'bill'),\n",
       " (-5.335725468614207, 'us'),\n",
       " (-5.335725468614207, 'one'),\n",
       " (-5.335725468614207, 'hillari'),\n",
       " (-5.48020705116944, 'peopl'),\n",
       " (-5.48020705116944, 'gold'),\n",
       " (-5.497629094616105, 'like'),\n",
       " (-5.497629094616105, 'also'),\n",
       " (-5.551793957833439, 'trump'),\n",
       " (-5.5896056455765475, 'foundat'),\n",
       " (-5.628903432990917, 'state'),\n",
       " (-5.649147039267564, 'time'),\n",
       " (-5.712459318681891, 'would'),\n",
       " (-5.712459318681891, 'use'),\n",
       " (-5.734486641000181, 'go'),\n",
       " (-5.757010115667264, 'year'),\n",
       " (-5.757010115667264, 'govern'),\n",
       " (-5.780052609814419, 'need'),\n",
       " (-5.827794372699634, 'nuclear')]"
      ]
     },
     "execution_count": 46,
     "metadata": {},
     "output_type": "execute_result"
    }
   ],
   "source": [
    "# most real\n",
    "sorted(zip(classifier.coef_[0],feature_names),reverse=True)[:20]"
   ]
  },
  {
   "cell_type": "code",
   "execution_count": 47,
   "metadata": {},
   "outputs": [
    {
     "data": {
      "text/plain": [
       "[(-4.672159512071836, 'clinton'),\n",
       " (-5.222770545225216, 'bill'),\n",
       " (-5.335725468614207, 'us'),\n",
       " (-5.335725468614207, 'one'),\n",
       " (-5.335725468614207, 'hillari'),\n",
       " (-5.48020705116944, 'peopl'),\n",
       " (-5.48020705116944, 'gold'),\n",
       " (-5.497629094616105, 'like'),\n",
       " (-5.497629094616105, 'also'),\n",
       " (-5.551793957833439, 'trump'),\n",
       " (-5.5896056455765475, 'foundat'),\n",
       " (-5.628903432990917, 'state'),\n",
       " (-5.649147039267564, 'time'),\n",
       " (-5.712459318681891, 'would'),\n",
       " (-5.712459318681891, 'use'),\n",
       " (-5.734486641000181, 'go'),\n",
       " (-5.757010115667264, 'year'),\n",
       " (-5.757010115667264, 'govern'),\n",
       " (-5.780052609814419, 'need'),\n",
       " (-5.827794372699634, 'nuclear'),\n",
       " (-5.87793018512399, 'report'),\n",
       " (-5.930712884701908, 'said'),\n",
       " (-5.958187140254157, 'get'),\n",
       " (-5.986437606540008, 'take'),\n",
       " (-5.986437606540008, 'hillari clinton'),\n",
       " (-6.015509421361985, 'presid'),\n",
       " (-6.045451777977064, 'well'),\n",
       " (-6.045451777977064, 'russia'),\n",
       " (-6.0763184259575915, 'look'),\n",
       " (-6.10816825184469, 'world'),\n",
       " (-6.10816825184469, 'work'),\n",
       " (-6.10816825184469, 'want'),\n",
       " (-6.10816825184469, 'see'),\n",
       " (-6.10816825184469, 'market'),\n",
       " (-6.10816825184469, 'even'),\n",
       " (-6.141065955351749, 'long'),\n",
       " (-6.141065955351749, 'elect'),\n",
       " (-6.175082840630004, 'say'),\n",
       " (-6.175082840630004, 'run'),\n",
       " (-6.175082840630004, 'initi'),\n",
       " (-6.21029774692107, 'two'),\n",
       " (-6.21029774692107, 'interest'),\n",
       " (-6.21029774692107, 'includ'),\n",
       " (-6.21029774692107, 'email'),\n",
       " (-6.21029774692107, 'anoth'),\n",
       " (-6.21029774692107, 'american'),\n",
       " (-6.246798149140597, 'serco'),\n",
       " (-6.246798149140597, 'plan'),\n",
       " (-6.246798149140597, 'obama'),\n",
       " (-6.246798149140597, 'make'),\n",
       " (-6.246798149140597, 'compani'),\n",
       " (-6.284681467042898, 'weapon'),\n",
       " (-6.284681467042898, 'way'),\n",
       " (-6.284681467042898, 'sinc'),\n",
       " (-6.284681467042898, 'show'),\n",
       " (-6.284681467042898, 'polic'),\n",
       " (-6.284681467042898, 'new'),\n",
       " (-6.284681467042898, 'find'),\n",
       " (-6.284681467042898, 'could'),\n",
       " (-6.284681467042898, 'com'),\n",
       " (-6.324056632277728, 'support'),\n",
       " (-6.324056632277728, 'russian'),\n",
       " (-6.324056632277728, 'price'),\n",
       " (-6.324056632277728, 'news'),\n",
       " (-6.324056632277728, 'mani'),\n",
       " (-6.324056632277728, 'footprint'),\n",
       " (-6.324056632277728, 'come'),\n",
       " (-6.365045976810925, 'think'),\n",
       " (-6.365045976810925, 'stori'),\n",
       " (-6.365045976810925, 'million'),\n",
       " (-6.365045976810925, 'may'),\n",
       " (-6.365045976810925, 'chang'),\n",
       " (-6.407787525188196, 'war'),\n",
       " (-6.407787525188196, 'space'),\n",
       " (-6.407787525188196, 'power'),\n",
       " (-6.407787525188196, 'month'),\n",
       " (-6.407787525188196, 'know'),\n",
       " (-6.407787525188196, 'first'),\n",
       " (-6.407787525188196, 'film'),\n",
       " (-6.407787525188196, 'day'),\n",
       " (-6.407787525188196, 'back'),\n",
       " (-6.452437798925935, 'vote'),\n",
       " (-6.452437798925935, 'sex'),\n",
       " (-6.452437798925935, 'place'),\n",
       " (-6.452437798925935, 'octob'),\n",
       " (-6.452437798925935, 'nuclear weapon'),\n",
       " (-6.452437798925935, 'group'),\n",
       " (-6.452437798925935, 'giant'),\n",
       " (-6.452437798925935, 'call'),\n",
       " (-6.499175276777625, 'thing'),\n",
       " (-6.499175276777625, 'system'),\n",
       " (-6.499175276777625, 'realli'),\n",
       " (-6.499175276777625, 'nato'),\n",
       " (-6.499175276777625, 'korea'),\n",
       " (-6.499175276777625, 'base'),\n",
       " (-6.499175276777625, 'alic'),\n",
       " (-6.548204704017943, 'text'),\n",
       " (-6.548204704017943, 'public'),\n",
       " (-6.548204704017943, 'point'),\n",
       " (-6.548204704017943, 'parti'),\n",
       " (-6.548204704017943, 'name'),\n",
       " (-6.548204704017943, 'money'),\n",
       " (-6.548204704017943, 'live'),\n",
       " (-6.548204704017943, 'found'),\n",
       " (-6.548204704017943, 'end'),\n",
       " (-6.548204704017943, 'countri'),\n",
       " (-6.548204704017943, 'contract'),\n",
       " (-6.548204704017943, 'cholesterol'),\n",
       " (-6.599762513682793, 'tri'),\n",
       " (-6.599762513682793, 'south'),\n",
       " (-6.599762513682793, 'secur'),\n",
       " (-6.599762513682793, 'real'),\n",
       " (-6.599762513682793, 'much'),\n",
       " (-6.599762513682793, 'media'),\n",
       " (-6.599762513682793, 'evid'),\n",
       " (-6.599762513682793, 'deep'),\n",
       " (-6.599762513682793, 'clinton foundat'),\n",
       " (-6.599762513682793, 'claim'),\n",
       " (-6.599762513682793, 'around'),\n",
       " (-6.654123722901681, 'sourc'),\n",
       " (-6.654123722901681, 'someth'),\n",
       " (-6.654123722901681, 'post'),\n",
       " (-6.654123722901681, 'part'),\n",
       " (-6.654123722901681, 'open'),\n",
       " (-6.654123722901681, 'offic'),\n",
       " (-6.654123722901681, 'north'),\n",
       " (-6.654123722901681, 'investig'),\n",
       " (-6.654123722901681, 'howev'),\n",
       " (-6.654123722901681, 'fix'),\n",
       " (-6.654123722901681, 'fbi'),\n",
       " (-6.654123722901681, 'fact'),\n",
       " (-6.654123722901681, 'divers'),\n",
       " (-6.654123722901681, 'creat'),\n",
       " (-6.654123722901681, 'continu'),\n",
       " (-6.654123722901681, 'campaign'),\n",
       " (-6.654123722901681, 'bill clinton'),\n",
       " (-6.711610813819362, 'unit'),\n",
       " (-6.711610813819362, 'tell'),\n",
       " (-6.711610813819362, 'self'),\n",
       " (-6.711610813819362, 'pickton'),\n",
       " (-6.711610813819362, 'notic'),\n",
       " (-6.711610813819362, 'note'),\n",
       " (-6.711610813819362, 'militari'),\n",
       " (-6.711610813819362, 'mention'),\n",
       " (-6.711610813819362, 'mean'),\n",
       " (-6.711610813819362, 'manag'),\n",
       " (-6.711610813819362, 'law'),\n",
       " (-6.711610813819362, 'last'),\n",
       " (-6.711610813819362, 'inform'),\n",
       " (-6.711610813819362, 'import'),\n",
       " (-6.711610813819362, 'happen'),\n",
       " (-6.711610813819362, 'good'),\n",
       " (-6.711610813819362, 'file'),\n",
       " (-6.711610813819362, 'energi'),\n",
       " (-6.711610813819362, 'comey'),\n",
       " (-6.711610813819362, 'baltic'),\n",
       " (-6.711610813819362, 'alreadi'),\n",
       " (-6.711610813819362, 'access'),\n",
       " (-6.7726053265222035, 'today'),\n",
       " (-6.7726053265222035, 'silver'),\n",
       " (-6.7726053265222035, 'seem'),\n",
       " (-6.7726053265222035, 'result'),\n",
       " (-6.7726053265222035, 'question'),\n",
       " (-6.7726053265222035, 'program'),\n",
       " (-6.7726053265222035, 'oper'),\n",
       " (-6.7726053265222035, 'kind'),\n",
       " (-6.7726053265222035, 'issu'),\n",
       " (-6.7726053265222035, 'immigr'),\n",
       " (-6.7726053265222035, 'develop'),\n",
       " (-6.7726053265222035, 'band'),\n",
       " (-6.7726053265222035, 'accord'),\n",
       " (-6.837563222796977, 'stand'),\n",
       " (-6.837563222796977, 'rock'),\n",
       " (-6.837563222796977, 'possibl'),\n",
       " (-6.837563222796977, 'play'),\n",
       " (-6.837563222796977, 'offici'),\n",
       " (-6.837563222796977, 'next'),\n",
       " (-6.837563222796977, 'nation'),\n",
       " (-6.837563222796977, 'move'),\n",
       " (-6.837563222796977, 'might'),\n",
       " (-6.837563222796977, 'http'),\n",
       " (-6.837563222796977, 'give'),\n",
       " (-6.837563222796977, 'former'),\n",
       " (-6.837563222796977, 'epstein'),\n",
       " (-6.837563222796977, 'donald'),\n",
       " (-6.837563222796977, 'cult'),\n",
       " (-6.837563222796977, 'crimin'),\n",
       " (-6.837563222796977, 'close'),\n",
       " (-6.837563222796977, 'came'),\n",
       " (-6.837563222796977, 'appear'),\n",
       " (-6.837563222796977, 'ancient'),\n",
       " (-6.837563222796977, 'america'),\n",
       " (-6.837563222796977, 'almost'),\n",
       " (-6.9070355956117435, 'zero'),\n",
       " (-6.9070355956117435, 'visa'),\n",
       " (-6.9070355956117435, 'trade'),\n",
       " (-6.9070355956117435, 'strong'),\n",
       " (-6.9070355956117435, 'stock'),\n",
       " (-6.9070355956117435, 'societi'),\n",
       " (-6.9070355956117435, 'secret'),\n",
       " (-6.9070355956117435, 'right'),\n",
       " (-6.9070355956117435, 'respons'),\n",
       " (-6.9070355956117435, 'relat'),\n",
       " (-6.9070355956117435, 'realiti'),\n",
       " (-6.9070355956117435, 'problem'),\n",
       " (-6.9070355956117435, 'oz'),\n",
       " (-6.9070355956117435, 'other'),\n",
       " (-6.9070355956117435, 'near'),\n",
       " (-6.9070355956117435, 'massiv'),\n",
       " (-6.9070355956117435, 'martin'),\n",
       " (-6.9070355956117435, 'let'),\n",
       " (-6.9070355956117435, 'land'),\n",
       " (-6.9070355956117435, 'key'),\n",
       " (-6.9070355956117435, 'involv'),\n",
       " (-6.9070355956117435, 'hold'),\n",
       " (-6.9070355956117435, 'help'),\n",
       " (-6.9070355956117435, 'global'),\n",
       " (-6.9070355956117435, 'full'),\n",
       " (-6.9070355956117435, 'follow'),\n",
       " (-6.9070355956117435, 'far'),\n",
       " (-6.9070355956117435, 'expect'),\n",
       " (-6.9070355956117435, 'exist'),\n",
       " (-6.9070355956117435, 'exercis'),\n",
       " (-6.9070355956117435, 'economi'),\n",
       " (-6.9070355956117435, 'commun'),\n",
       " (-6.9070355956117435, 'comment'),\n",
       " (-6.9070355956117435, 'caus'),\n",
       " (-6.9070355956117435, 'busi'),\n",
       " (-6.9070355956117435, 'believ'),\n",
       " (-6.9070355956117435, 'allow'),\n",
       " (-6.9070355956117435, 'addit'),\n",
       " (-6.981697124380764, 'week'),\n",
       " (-6.981697124380764, 'told'),\n",
       " (-6.981697124380764, 'taylor'),\n",
       " (-6.981697124380764, 'talk'),\n",
       " (-6.981697124380764, 'still'),\n",
       " (-6.981697124380764, 'share'),\n",
       " (-6.981697124380764, 'receiv'),\n",
       " (-6.981697124380764, 'propos'),\n",
       " (-6.981697124380764, 'posit'),\n",
       " (-6.981697124380764, 'polit'),\n",
       " (-6.981697124380764, 'person'),\n",
       " (-6.981697124380764, 'nasa'),\n",
       " (-6.981697124380764, 'member'),\n",
       " (-6.981697124380764, 'mask'),\n",
       " (-6.981697124380764, 'mail'),\n",
       " (-6.981697124380764, 'made'),\n",
       " (-6.981697124380764, 'london'),\n",
       " (-6.981697124380764, 'littl'),\n",
       " (-6.981697124380764, 'higher'),\n",
       " (-6.981697124380764, 'hedg'),\n",
       " (-6.981697124380764, 'health'),\n",
       " (-6.981697124380764, 'firm'),\n",
       " (-6.981697124380764, 'everyon'),\n",
       " (-6.981697124380764, 'donald trump'),\n",
       " (-6.981697124380764, 'dollar'),\n",
       " (-6.981697124380764, 'depart'),\n",
       " (-6.981697124380764, 'democrat'),\n",
       " (-6.981697124380764, 'deep space'),\n",
       " (-6.981697124380764, 'conflict'),\n",
       " (-6.981697124380764, 'case'),\n",
       " (-6.981697124380764, 'act'),\n",
       " (-7.062386035630906, 'ziegler'),\n",
       " (-7.062386035630906, 'zero hedg'),\n",
       " (-7.062386035630906, 'word'),\n",
       " (-7.062386035630906, 'wikileak'),\n",
       " (-7.062386035630906, 'usa'),\n",
       " (-7.062386035630906, 'turn'),\n",
       " (-7.062386035630906, 'three'),\n",
       " (-7.062386035630906, 'technolog'),\n",
       " (-7.062386035630906, 'sure'),\n",
       " (-7.062386035630906, 'start'),\n",
       " (-7.062386035630906, 'sever'),\n",
       " (-7.062386035630906, 'set'),\n",
       " (-7.062386035630906, 'servic'),\n",
       " (-7.062386035630906, 'send'),\n",
       " (-7.062386035630906, 'republican'),\n",
       " (-7.062386035630906, 'republ'),\n",
       " (-7.062386035630906, 'partner'),\n",
       " (-7.062386035630906, 'paid'),\n",
       " (-7.062386035630906, 'novemb'),\n",
       " (-7.062386035630906, 'night'),\n",
       " (-7.062386035630906, 'machin'),\n",
       " (-7.062386035630906, 'low'),\n",
       " (-7.062386035630906, 'lockhe martin'),\n",
       " (-7.062386035630906, 'lockhe'),\n",
       " (-7.062386035630906, 'link'),\n",
       " (-7.062386035630906, 'level'),\n",
       " (-7.062386035630906, 'less'),\n",
       " (-7.062386035630906, 'kill'),\n",
       " (-7.062386035630906, 'keep'),\n",
       " (-7.062386035630906, 'joy'),\n",
       " (-7.062386035630906, 'intern'),\n",
       " (-7.062386035630906, 'hous'),\n",
       " (-7.062386035630906, 'high'),\n",
       " (-7.062386035630906, 'head'),\n",
       " (-7.062386035630906, 'feel'),\n",
       " (-7.062386035630906, 'establish'),\n",
       " (-7.062386035630906, 'director'),\n",
       " (-7.062386035630906, 'destroy'),\n",
       " (-7.062386035630906, 'control'),\n",
       " (-7.062386035630906, 'citi'),\n",
       " (-7.062386035630906, 'big'),\n",
       " (-7.062386035630906, 'becam'),\n",
       " (-7.062386035630906, 'attempt'),\n",
       " (-7.062386035630906, 'ask'),\n",
       " (-7.062386035630906, 'ad'),\n",
       " (-7.062386035630906, 'actual'),\n",
       " (-7.062386035630906, 'activ'),\n",
       " (-7.150161646513292, 'york'),\n",
       " (-7.150161646513292, 'yet'),\n",
       " (-7.150161646513292, 'wrote'),\n",
       " (-7.150161646513292, 'without'),\n",
       " (-7.150161646513292, 'within'),\n",
       " (-7.150161646513292, 'watch'),\n",
       " (-7.150161646513292, 'unit state'),\n",
       " (-7.150161646513292, 'total'),\n",
       " (-7.150161646513292, 'street'),\n",
       " (-7.150161646513292, 'stop'),\n",
       " (-7.150161646513292, 'step'),\n",
       " (-7.150161646513292, 'statement'),\n",
       " (-7.150161646513292, 'soro'),\n",
       " (-7.150161646513292, 'shanghai'),\n",
       " (-7.150161646513292, 'serv'),\n",
       " (-7.150161646513292, 'sell'),\n",
       " (-7.150161646513292, 'role'),\n",
       " (-7.150161646513292, 'refer'),\n",
       " (-7.150161646513292, 'rate'),\n",
       " (-7.150161646513292, 'protect'),\n",
       " (-7.150161646513292, 'process'),\n",
       " (-7.150161646513292, 'potenti'),\n",
       " (-7.150161646513292, 'number'),\n",
       " (-7.150161646513292, 'non'),\n",
       " (-7.150161646513292, 'new york'),\n",
       " (-7.150161646513292, 'nativ'),\n",
       " (-7.150161646513292, 'man'),\n",
       " (-7.150161646513292, 'local'),\n",
       " (-7.150161646513292, 'loan'),\n",
       " (-7.150161646513292, 'line'),\n",
       " (-7.150161646513292, 'life'),\n",
       " (-7.150161646513292, 'legal'),\n",
       " (-7.150161646513292, 'lectur'),\n",
       " (-7.150161646513292, 'least'),\n",
       " (-7.150161646513292, 'lead'),\n",
       " (-7.150161646513292, 'imag'),\n",
       " (-7.150161646513292, 'hope'),\n",
       " (-7.150161646513292, 'harford'),\n",
       " (-7.150161646513292, 'given'),\n",
       " (-7.150161646513292, 'gener'),\n",
       " (-7.150161646513292, 'forc'),\n",
       " (-7.150161646513292, 'fire'),\n",
       " (-7.150161646513292, 'everyth'),\n",
       " (-7.150161646513292, 'everi'),\n",
       " (-7.150161646513292, 'ever'),\n",
       " (-7.150161646513292, 'event'),\n",
       " (-7.150161646513292, 'enough'),\n",
       " (-7.150161646513292, 'engin'),\n",
       " (-7.150161646513292, 'effort'),\n",
       " (-7.150161646513292, 'document'),\n",
       " (-7.150161646513292, 'discuss'),\n",
       " (-7.150161646513292, 'decid'),\n",
       " (-7.150161646513292, 'cours'),\n",
       " (-7.150161646513292, 'counti'),\n",
       " (-7.150161646513292, 'cost'),\n",
       " (-7.150161646513292, 'consid'),\n",
       " (-7.150161646513292, 'collect'),\n",
       " (-7.150161646513292, 'border'),\n",
       " (-7.150161646513292, 'berni'),\n",
       " (-7.150161646513292, 'answer'),\n",
       " (-7.150161646513292, 'administr'),\n",
       " (-7.246389678607846, 'yesterday'),\n",
       " (-7.246389678607846, 'www'),\n",
       " (-7.246389678607846, 'water'),\n",
       " (-7.246389678607846, 'via'),\n",
       " (-7.246389678607846, 'understand'),\n",
       " (-7.246389678607846, 'twitter'),\n",
       " (-7.246389678607846, 'test'),\n",
       " (-7.246389678607846, 'team'),\n",
       " (-7.246389678607846, 'tax'),\n",
       " (-7.246389678607846, 'statu'),\n",
       " (-7.246389678607846, 'speak'),\n",
       " (-7.246389678607846, 'self ish'),\n",
       " (-7.246389678607846, 'satan'),\n",
       " (-7.246389678607846, 'rose'),\n",
       " (-7.246389678607846, 'republ korea'),\n",
       " (-7.246389678607846, 'reason'),\n",
       " (-7.246389678607846, 'putin'),\n",
       " (-7.246389678607846, 'put'),\n",
       " (-7.246389678607846, 'probabl'),\n",
       " (-7.246389678607846, 'pki'),\n",
       " (-7.246389678607846, 'organ'),\n",
       " (-7.246389678607846, 'old'),\n",
       " (-7.246389678607846, 'must'),\n",
       " (-7.246389678607846, 'mind'),\n",
       " (-7.246389678607846, 'men'),\n",
       " (-7.246389678607846, 'meet'),\n",
       " (-7.246389678607846, 'major'),\n",
       " (-7.246389678607846, 'kubrick'),\n",
       " (-7.246389678607846, 'ish'),\n",
       " (-7.246389678607846, 'human'),\n",
       " (-7.246389678607846, 'friend'),\n",
       " (-7.246389678607846, 'fleck'),\n",
       " (-7.246389678607846, 'farm'),\n",
       " (-7.246389678607846, 'execut'),\n",
       " (-7.246389678607846, 'exampl'),\n",
       " (-7.246389678607846, 'either'),\n",
       " (-7.246389678607846, 'econom'),\n",
       " (-7.246389678607846, 'dream'),\n",
       " (-7.246389678607846, 'discov'),\n",
       " (-7.246389678607846, 'devic'),\n",
       " (-7.246389678607846, 'deliv'),\n",
       " (-7.246389678607846, 'cultur'),\n",
       " (-7.246389678607846, 'circl'),\n",
       " (-7.246389678607846, 'chief'),\n",
       " (-7.246389678607846, 'care'),\n",
       " (-7.246389678607846, 'book'),\n",
       " (-7.246389678607846, 'board'),\n",
       " (-7.246389678607846, 'begin'),\n",
       " (-7.246389678607846, 'becom'),\n",
       " (-7.246389678607846, 'away'),\n",
       " (-7.246389678607846, 'articl'),\n",
       " (-7.246389678607846, 'applic'),\n",
       " (-7.246389678607846, 'action'),\n",
       " (-7.352873159010295, 'write'),\n",
       " (-7.352873159010295, 'women'),\n",
       " (-7.352873159010295, 'water protector'),\n",
       " (-7.352873159010295, 'viewer'),\n",
       " (-7.352873159010295, 'uk'),\n",
       " (-7.352873159010295, 'troop'),\n",
       " (-7.352873159010295, 'tie'),\n",
       " (-7.352873159010295, 'thu'),\n",
       " (-7.352873159010295, 'throughout'),\n",
       " (-7.352873159010295, 'term'),\n",
       " (-7.352873159010295, 'syrian'),\n",
       " (-7.352873159010295, 'suspect'),\n",
       " (-7.352873159010295, 'suppos'),\n",
       " (-7.352873159010295, 'structur'),\n",
       " (-7.352873159010295, 'solut'),\n",
       " (-7.352873159010295, 'smartmat'),\n",
       " (-7.352873159010295, 'sign'),\n",
       " (-7.352873159010295, 'second'),\n",
       " (-7.352873159010295, 'save'),\n",
       " (-7.352873159010295, 'risk'),\n",
       " (-7.352873159010295, 'rise'),\n",
       " (-7.352873159010295, 'requir'),\n",
       " (-7.352873159010295, 'remain'),\n",
       " (-7.352873159010295, 'quit'),\n",
       " (-7.352873159010295, 'protector'),\n",
       " (-7.352873159010295, 'profit'),\n",
       " (-7.352873159010295, 'profession'),\n",
       " (-7.352873159010295, 'presidenti'),\n",
       " (-7.352873159010295, 'polici'),\n",
       " (-7.352873159010295, 'pleas'),\n",
       " (-7.352873159010295, 'pay'),\n",
       " (-7.352873159010295, 'patent'),\n",
       " (-7.352873159010295, 'particip'),\n",
       " (-7.352873159010295, 'order'),\n",
       " (-7.352873159010295, 'oil'),\n",
       " (-7.352873159010295, 'obtain'),\n",
       " (-7.352873159010295, 'ny'),\n",
       " (-7.352873159010295, 'nick'),\n",
       " (-7.352873159010295, 'never'),\n",
       " (-7.352873159010295, 'moscow'),\n",
       " (-7.352873159010295, 'mark'),\n",
       " (-7.352873159010295, 'magic'),\n",
       " (-7.352873159010295, 'list'),\n",
       " (-7.352873159010295, 'lie'),\n",
       " (-7.352873159010295, 'left'),\n",
       " (-7.352873159010295, 'leav'),\n",
       " (-7.352873159010295, 'korean'),\n",
       " (-7.352873159010295, 'instead'),\n",
       " (-7.352873159010295, 'immun'),\n",
       " (-7.352873159010295, 'home'),\n",
       " (-7.352873159010295, 'half'),\n",
       " (-7.352873159010295, 'ground'),\n",
       " (-7.352873159010295, 'got'),\n",
       " (-7.352873159010295, 'gld'),\n",
       " (-7.352873159010295, 'fund'),\n",
       " (-7.352873159010295, 'feder'),\n",
       " (-7.352873159010295, 'fall'),\n",
       " (-7.352873159010295, 'est'),\n",
       " (-7.352873159010295, 'entir'),\n",
       " (-7.352873159010295, 'enforc'),\n",
       " (-7.352873159010295, 'differ'),\n",
       " (-7.352873159010295, 'detail'),\n",
       " (-7.352873159010295, 'design'),\n",
       " (-7.352873159010295, 'demand'),\n",
       " (-7.352873159010295, 'dakota'),\n",
       " (-7.352873159010295, 'current'),\n",
       " (-7.352873159010295, 'coupl'),\n",
       " (-7.352873159010295, 'confirm'),\n",
       " (-7.352873159010295, 'charact'),\n",
       " (-7.352873159010295, 'center'),\n",
       " (-7.352873159010295, 'broze'),\n",
       " (-7.352873159010295, 'bond'),\n",
       " (-7.352873159010295, 'billion'),\n",
       " (-7.352873159010295, 'benefit'),\n",
       " (-7.352873159010295, 'base one'),\n",
       " (-7.352873159010295, 'bad'),\n",
       " (-7.352873159010295, 'attack'),\n",
       " (-7.352873159010295, 'arm'),\n",
       " (-7.352873159010295, 'among'),\n",
       " (-7.352873159010295, 'along'),\n",
       " (-7.472061676275414, 'young'),\n",
       " (-7.472061676275414, 'win'),\n",
       " (-7.472061676275414, 'washington'),\n",
       " (-7.472061676275414, 'voter'),\n",
       " (-7.472061676275414, 'vote machin'),\n",
       " (-7.472061676275414, 'video'),\n",
       " (-7.472061676275414, 'victim'),\n",
       " (-7.472061676275414, 'unfold'),\n",
       " (-7.472061676275414, 'top'),\n",
       " (-7.472061676275414, 'teneo'),\n",
       " (-7.472061676275414, 'tactic nuclear'),\n",
       " (-7.472061676275414, 'tactic'),\n",
       " (-7.472061676275414, 'suggest'),\n",
       " (-7.472061676275414, 'stock market'),\n",
       " (-7.472061676275414, 'social'),\n",
       " (-7.472061676275414, 'slv'),\n",
       " (-7.472061676275414, 'situat'),\n",
       " (-7.472061676275414, 'short'),\n",
       " (-7.472061676275414, 'server'),\n",
       " (-7.472061676275414, 'secret societi'),\n",
       " (-7.472061676275414, 'riot'),\n",
       " (-7.472061676275414, 'review'),\n",
       " (-7.472061676275414, 'restor'),\n",
       " (-7.472061676275414, 'resourc'),\n",
       " (-7.472061676275414, 'research'),\n",
       " (-7.472061676275414, 'record'),\n",
       " (-7.472061676275414, 'recent'),\n",
       " (-7.472061676275414, 'rather'),\n",
       " (-7.472061676275414, 'rais'),\n",
       " (-7.472061676275414, 'protest'),\n",
       " (-7.472061676275414, 'project'),\n",
       " (-7.472061676275414, 'presid obama'),\n",
       " (-7.472061676275414, 'pass'),\n",
       " (-7.472061676275414, 'opinion'),\n",
       " (-7.472061676275414, 'open interest'),\n",
       " (-7.472061676275414, 'npl'),\n",
       " (-7.472061676275414, 'noth'),\n",
       " (-7.472061676275414, 'network'),\n",
       " (-7.472061676275414, 'murder'),\n",
       " (-7.472061676275414, 'memo'),\n",
       " (-7.472061676275414, 'melania'),\n",
       " (-7.472061676275414, 'matter'),\n",
       " (-7.472061676275414, 'lower'),\n",
       " (-7.472061676275414, 'love'),\n",
       " (-7.472061676275414, 'lost'),\n",
       " (-7.472061676275414, 'leader'),\n",
       " (-7.472061676275414, 'lawyer'),\n",
       " (-7.472061676275414, 'largest'),\n",
       " (-7.472061676275414, 'insid'),\n",
       " (-7.472061676275414, 'individu'),\n",
       " (-7.472061676275414, 'inc'),\n",
       " (-7.472061676275414, 'idea'),\n",
       " (-7.472061676275414, 'huge'),\n",
       " (-7.472061676275414, 'heart'),\n",
       " (-7.472061676275414, 'habitat'),\n",
       " (-7.472061676275414, 'gibson'),\n",
       " (-7.472061676275414, 'futur'),\n",
       " (-7.472061676275414, 'four'),\n",
       " (-7.472061676275414, 'foreign'),\n",
       " (-7.472061676275414, 'focu'),\n",
       " (-7.472061676275414, 'five'),\n",
       " (-7.472061676275414, 'figur'),\n",
       " (-7.472061676275414, 'eye'),\n",
       " (-7.472061676275414, 'express'),\n",
       " (-7.472061676275414, 'european'),\n",
       " (-7.472061676275414, 'especi'),\n",
       " (-7.472061676275414, 'embed'),\n",
       " (-7.472061676275414, 'earth'),\n",
       " (-7.472061676275414, 'druckenmil'),\n",
       " (-7.472061676275414, 'deploy'),\n",
       " (-7.472061676275414, 'decad'),\n",
       " (-7.472061676275414, 'daili'),\n",
       " (-7.472061676275414, 'cut'),\n",
       " (-7.472061676275414, 'cover'),\n",
       " (-7.472061676275414, 'corpor'),\n",
       " (-7.472061676275414, 'complet'),\n",
       " (-7.472061676275414, 'code'),\n",
       " (-7.472061676275414, 'click'),\n",
       " (-7.472061676275414, 'check'),\n",
       " (-7.472061676275414, 'certainli'),\n",
       " (-7.472061676275414, 'candid'),\n",
       " (-7.472061676275414, 'build'),\n",
       " (-7.472061676275414, 'bring'),\n",
       " (-7.472061676275414, 'bridg'),\n",
       " (-7.472061676275414, 'break'),\n",
       " (-7.472061676275414, 'bodi'),\n",
       " (-7.472061676275414, 'better'),\n",
       " (-7.472061676275414, 'best'),\n",
       " (-7.472061676275414, 'bank'),\n",
       " (-7.472061676275414, 'author'),\n",
       " (-7.472061676275414, 'audit'),\n",
       " (-7.472061676275414, 'assist'),\n",
       " (-7.472061676275414, 'arrest'),\n",
       " (-7.472061676275414, 'area'),\n",
       " (-7.472061676275414, 'anyon'),\n",
       " (-7.472061676275414, 'announc'),\n",
       " (-7.472061676275414, 'analysi'),\n",
       " (-7.472061676275414, 'although'),\n",
       " (-7.472061676275414, 'agenc'),\n",
       " (-7.472061676275414, 'activist'),\n",
       " (-7.472061676275414, 'across'),\n",
       " (-7.472061676275414, 'accomplish'),\n",
       " (-7.607403024145176, 'woman'),\n",
       " (-7.607403024145176, 'white'),\n",
       " (-7.607403024145176, 'upper'),\n",
       " (-7.607403024145176, 'type'),\n",
       " (-7.607403024145176, 'twitter com'),\n",
       " (-7.607403024145176, 'technic'),\n",
       " (-7.607403024145176, 'taken'),\n",
       " (-7.607403024145176, 'symbol'),\n",
       " (-7.607403024145176, 'standard'),\n",
       " (-7.607403024145176, 'stand rock'),\n",
       " (-7.607403024145176, 'south korea'),\n",
       " (-7.607403024145176, 'slogan'),\n",
       " (-7.607403024145176, 'shot'),\n",
       " (-7.607403024145176, 'sexual'),\n",
       " (-7.607403024145176, 'septemb'),\n",
       " (-7.607403024145176, 'sens'),\n",
       " (-7.607403024145176, 'seen'),\n",
       " (-7.607403024145176, 'scene'),\n",
       " (-7.607403024145176, 'sander'),\n",
       " (-7.607403024145176, 'russophobia'),\n",
       " (-7.607403024145176, 'ritual'),\n",
       " (-7.607403024145176, 'reveal'),\n",
       " (-7.607403024145176, 'rest'),\n",
       " (-7.607403024145176, 'respond'),\n",
       " (-7.607403024145176, 'reportedli'),\n",
       " (-7.607403024145176, 'recogn'),\n",
       " (-7.607403024145176, 'realiz'),\n",
       " (-7.607403024145176, 'readi'),\n",
       " (-7.607403024145176, 'ralli'),\n",
       " (-7.607403024145176, 'purpos'),\n",
       " (-7.607403024145176, 'psycholog'),\n",
       " (-7.607403024145176, 'provid'),\n",
       " (-7.607403024145176, 'prospect'),\n",
       " (-7.607403024145176, 'proof'),\n",
       " (-7.607403024145176, 'promis'),\n",
       " (-7.607403024145176, 'procedur'),\n",
       " (-7.607403024145176, 'privat'),\n",
       " (-7.607403024145176, 'prepar'),\n",
       " (-7.607403024145176, 'plu'),\n",
       " (-7.607403024145176, 'placement'),\n",
       " (-7.607403024145176, 'pic twitter'),\n",
       " (-7.607403024145176, 'pic'),\n",
       " (-7.607403024145176, 'phone'),\n",
       " (-7.607403024145176, 'pentagram'),\n",
       " (-7.607403024145176, 'past'),\n",
       " (-7.607403024145176, 'outsid'),\n",
       " (-7.607403024145176, 'nvc'),\n",
       " (-7.607403024145176, 'numer'),\n",
       " (-7.607403024145176, 'nov'),\n",
       " (-7.607403024145176, 'nodapl'),\n",
       " (-7.607403024145176, 'nearli'),\n",
       " (-7.607403024145176, 'natur'),\n",
       " (-7.607403024145176, 'model'),\n",
       " (-7.607403024145176, 'memori'),\n",
       " (-7.607403024145176, 'measur'),\n",
       " (-7.607403024145176, 'mayb'),\n",
       " (-7.607403024145176, 'massiv footprint'),\n",
       " (-7.607403024145176, 'mar'),\n",
       " (-7.607403024145176, 'mandi'),\n",
       " (-7.607403024145176, 'magazin'),\n",
       " (-7.607403024145176, 'loss'),\n",
       " (-7.607403024145176, 'look like'),\n",
       " (-7.607403024145176, 'locat'),\n",
       " (-7.607403024145176, 'light'),\n",
       " (-7.607403024145176, 'led'),\n",
       " (-7.607403024145176, 'launch'),\n",
       " (-7.607403024145176, 'lasri'),\n",
       " (-7.607403024145176, 'larg'),\n",
       " (-7.607403024145176, 'journalist'),\n",
       " (-7.607403024145176, 'join'),\n",
       " (-7.607403024145176, 'interview'),\n",
       " (-7.607403024145176, 'intellig'),\n",
       " (-7.607403024145176, 'ing'),\n",
       " (-7.607403024145176, 'indic'),\n",
       " (-7.607403024145176, 'india'),\n",
       " (-7.607403024145176, 'independ'),\n",
       " (-7.607403024145176, 'illeg'),\n",
       " (-7.607403024145176, 'hsbc'),\n",
       " (-7.607403024145176, 'hour'),\n",
       " (-7.607403024145176, 'hooker'),\n",
       " (-7.607403024145176, 'hit'),\n",
       " (-7.607403024145176, 'histori'),\n",
       " (-7.607403024145176, 'heard'),\n",
       " (-7.607403024145176, 'hear'),\n",
       " (-7.607403024145176, 'grow'),\n",
       " (-7.607403024145176, 'great'),\n",
       " (-7.607403024145176, 'goe'),\n",
       " (-7.607403024145176, 'gain'),\n",
       " (-7.607403024145176, 'fulli'),\n",
       " (-7.607403024145176, 'front'),\n",
       " (-7.607403024145176, 'final'),\n",
       " (-7.607403024145176, 'field'),\n",
       " (-7.607403024145176, 'fellow'),\n",
       " (-7.607403024145176, 'facebook'),\n",
       " (-7.607403024145176, 'explor'),\n",
       " (-7.607403024145176, 'europ'),\n",
       " (-7.607403024145176, 'effect'),\n",
       " (-7.607403024145176, 'drug'),\n",
       " (-7.607403024145176, 'digit'),\n",
       " (-7.607403024145176, 'despit'),\n",
       " (-7.607403024145176, 'defens'),\n",
       " (-7.607403024145176, 'decis'),\n",
       " (-7.607403024145176, 'data'),\n",
       " (-7.607403024145176, 'currenc'),\n",
       " (-7.607403024145176, 'crime'),\n",
       " (-7.607403024145176, 'creativ'),\n",
       " (-7.607403024145176, 'corrupt'),\n",
       " (-7.607403024145176, 'conserv'),\n",
       " (-7.607403024145176, 'comex'),\n",
       " (-7.607403024145176, 'co'),\n",
       " (-7.607403024145176, 'clearli'),\n",
       " (-7.607403024145176, 'citizen'),\n",
       " (-7.607403024145176, 'china'),\n",
       " (-7.607403024145176, 'child'),\n",
       " (-7.607403024145176, 'charg'),\n",
       " (-7.607403024145176, 'camp'),\n",
       " (-7.607403024145176, 'block'),\n",
       " (-7.607403024145176, 'black'),\n",
       " (-7.607403024145176, 'bit'),\n",
       " (-7.607403024145176, 'berni sander'),\n",
       " (-7.607403024145176, 'behind'),\n",
       " (-7.607403024145176, 'be'),\n",
       " (-7.607403024145176, 'avoid'),\n",
       " (-7.607403024145176, 'avail'),\n",
       " (-7.607403024145176, 'associ'),\n",
       " (-7.607403024145176, 'asset'),\n",
       " (-7.607403024145176, 'appar'),\n",
       " (-7.607403024145176, 'answer fleck'),\n",
       " (-7.607403024145176, 'anonym'),\n",
       " (-7.607403024145176, 'al'),\n",
       " (-7.607403024145176, 'agreement'),\n",
       " (-7.607403024145176, 'ago'),\n",
       " (-7.607403024145176, 'accus'),\n",
       " (-7.607403024145176, 'accept'),\n",
       " (-7.763972084836716, 'yuan'),\n",
       " (-7.763972084836716, 'year old'),\n",
       " (-7.763972084836716, 'wrong'),\n",
       " (-7.763972084836716, 'written'),\n",
       " (-7.763972084836716, 'world news'),\n",
       " (-7.763972084836716, 'wife'),\n",
       " (-7.763972084836716, 'wide'),\n",
       " (-7.763972084836716, 'white hous'),\n",
       " (-7.763972084836716, 'whine'),\n",
       " (-7.763972084836716, 'whether'),\n",
       " (-7.763972084836716, 'websit'),\n",
       " (-7.763972084836716, 'web'),\n",
       " (-7.763972084836716, 'warn'),\n",
       " (-7.763972084836716, 'view'),\n",
       " (-7.763972084836716, 'us tactic'),\n",
       " (-7.763972084836716, 'tuesday'),\n",
       " (-7.763972084836716, 'transit'),\n",
       " (-7.763972084836716, 'took'),\n",
       " (-7.763972084836716, 'togeth'),\n",
       " (-7.763972084836716, 'thought'),\n",
       " (-7.763972084836716, 'thank'),\n",
       " (-7.763972084836716, 'syria'),\n",
       " (-7.763972084836716, 'suppli'),\n",
       " (-7.763972084836716, 'steve'),\n",
       " (-7.763972084836716, 'stay'),\n",
       " (-7.763972084836716, 'staff'),\n",
       " (-7.763972084836716, 'spread'),\n",
       " (-7.763972084836716, 'special'),\n",
       " (-7.763972084836716, 'sound'),\n",
       " (-7.763972084836716, 'sociolog'),\n",
       " (-7.763972084836716, 'small'),\n",
       " (-7.763972084836716, 'signal'),\n",
       " (-7.763972084836716, 'shut'),\n",
       " (-7.763972084836716, 'shop'),\n",
       " (-7.763972084836716, 'selfish'),\n",
       " (-7.763972084836716, 'seek'),\n",
       " (-7.763972084836716, 'samsung'),\n",
       " (-7.763972084836716, 'russophob'),\n",
       " (-7.763972084836716, 'rose contract'),\n",
       " (-7.763972084836716, 'robert'),\n",
       " (-7.763972084836716, 'respect'),\n",
       " (-7.763972084836716, 'reserv'),\n",
       " (-7.763972084836716, 'repres'),\n",
       " (-7.763972084836716, 'rememb'),\n",
       " (-7.763972084836716, 'relationship'),\n",
       " (-7.763972084836716, 'regard'),\n",
       " (-7.763972084836716, 'red'),\n",
       " (-7.763972084836716, 'recruit'),\n",
       " (-7.763972084836716, 'read'),\n",
       " (-7.763972084836716, 'quot'),\n",
       " (-7.763972084836716, 'publish'),\n",
       " (-7.763972084836716, 'promin'),\n",
       " (-7.763972084836716, 'probe'),\n",
       " (-7.763972084836716, 'pro'),\n",
       " (-7.763972084836716, 'prn'),\n",
       " (-7.763972084836716, 'prior'),\n",
       " (-7.763972084836716, 'present'),\n",
       " (-7.763972084836716, 'premium'),\n",
       " (-7.763972084836716, 'pre'),\n",
       " (-7.763972084836716, 'pool'),\n",
       " (-7.763972084836716, 'poll'),\n",
       " (-7.763972084836716, 'politician'),\n",
       " (-7.763972084836716, 'pm'),\n",
       " (-7.763972084836716, 'pipelin'),\n",
       " (-7.763972084836716, 'pig farm'),\n",
       " (-7.763972084836716, 'pig'),\n",
       " (-7.763972084836716, 'period'),\n",
       " (-7.763972084836716, 'paper'),\n",
       " (-7.763972084836716, 'pakistan'),\n",
       " (-7.763972084836716, 'overnight'),\n",
       " (-7.763972084836716, 'opposit'),\n",
       " (-7.763972084836716, 'oppos'),\n",
       " (-7.763972084836716, 'onto'),\n",
       " (-7.763972084836716, 'one technolog'),\n",
       " (-7.763972084836716, 'often'),\n",
       " (-7.763972084836716, 'occur'),\n",
       " (-7.763972084836716, 'neg'),\n",
       " (-7.763972084836716, 'nativ american'),\n",
       " (-7.763972084836716, 'mysteri'),\n",
       " (-7.763972084836716, 'mr'),\n",
       " (-7.763972084836716, 'morn'),\n",
       " (-7.763972084836716, 'moment'),\n",
       " (-7.763972084836716, 'mission'),\n",
       " (-7.763972084836716, 'minut'),\n",
       " (-7.763972084836716, 'mine'),\n",
       " (-7.763972084836716, 'mentor'),\n",
       " (-7.763972084836716, 'marit'),\n",
       " (-7.763972084836716, 'lose'),\n",
       " (-7.763972084836716, 'liber'),\n",
       " (-7.763972084836716, 'leadership'),\n",
       " (-7.763972084836716, 'law enforc'),\n",
       " (-7.763972084836716, 'laugh'),\n",
       " (-7.763972084836716, 'klamath'),\n",
       " (-7.763972084836716, 'kidman'),\n",
       " (-7.763972084836716, 'jon'),\n",
       " (-7.763972084836716, 'jihadist'),\n",
       " (-7.763972084836716, 'jame'),\n",
       " (-7.763972084836716, 'invert pentagram'),\n",
       " (-7.763972084836716, 'invert'),\n",
       " (-7.763972084836716, 'inner'),\n",
       " (-7.763972084836716, 'indian'),\n",
       " (-7.763972084836716, 'inde'),\n",
       " (-7.763972084836716, 'increas'),\n",
       " (-7.763972084836716, 'immun system'),\n",
       " (-7.763972084836716, 'ii'),\n",
       " (-7.763972084836716, 'identifi'),\n",
       " (-7.763972084836716, 'hundr'),\n",
       " (-7.763972084836716, 'http www'),\n",
       " (-7.763972084836716, 'hell'),\n",
       " (-7.763972084836716, 'held'),\n",
       " (-7.763972084836716, 'hand'),\n",
       " (-7.763972084836716, 'guess'),\n",
       " (-7.763972084836716, 'greater'),\n",
       " (-7.763972084836716, 'gotnew'),\n",
       " (-7.763972084836716, 'god'),\n",
       " (-7.763972084836716, 'girl'),\n",
       " (-7.763972084836716, 'function'),\n",
       " (-7.763972084836716, 'forward'),\n",
       " (-7.763972084836716, 'form'),\n",
       " (-7.763972084836716, 'footprint embed'),\n",
       " (-7.763972084836716, 'flight'),\n",
       " (-7.763972084836716, 'financi'),\n",
       " (-7.763972084836716, 'fight'),\n",
       " (-7.763972084836716, 'famili'),\n",
       " (-7.763972084836716, 'fake'),\n",
       " (-7.763972084836716, 'expert'),\n",
       " (-7.763972084836716, 'exactli'),\n",
       " (-7.763972084836716, 'equip'),\n",
       " (-7.763972084836716, 'employ'),\n",
       " (-7.763972084836716, 'embed rock'),\n",
       " (-7.763972084836716, 'elit'),\n",
       " (-7.763972084836716, 'editor'),\n",
       " (-7.763972084836716, 'eastern'),\n",
       " (-7.763972084836716, 'earli'),\n",
       " (-7.763972084836716, 'donat'),\n",
       " (-7.763972084836716, 'diseas'),\n",
       " (-7.763972084836716, 'directli'),\n",
       " (-7.763972084836716, 'deutsch bank'),\n",
       " (-7.763972084836716, 'deutsch'),\n",
       " (-7.763972084836716, 'deep state'),\n",
       " (-7.763972084836716, 'declin'),\n",
       " (-7.763972084836716, 'decent'),\n",
       " (-7.763972084836716, 'decemb'),\n",
       " (-7.763972084836716, 'debt'),\n",
       " (-7.763972084836716, 'death'),\n",
       " (-7.763972084836716, 'deal'),\n",
       " (-7.763972084836716, 'dead'),\n",
       " (-7.763972084836716, 'date'),\n",
       " (-7.763972084836716, 'danger'),\n",
       " (-7.763972084836716, 'damag'),\n",
       " (-7.763972084836716, 'cruis'),\n",
       " (-7.763972084836716, 'critic'),\n",
       " (-7.763972084836716, 'consequ'),\n",
       " (-7.763972084836716, 'connect'),\n",
       " (-7.763972084836716, 'conflict interest'),\n",
       " (-7.763972084836716, 'common'),\n",
       " (-7.763972084836716, 'commerci'),\n",
       " (-7.763972084836716, 'cold war'),\n",
       " (-7.763972084836716, 'cold'),\n",
       " (-7.763972084836716, 'clue'),\n",
       " (-7.763972084836716, 'clear'),\n",
       " (-7.763972084836716, 'certifi'),\n",
       " (-7.763972084836716, 'cell'),\n",
       " (-7.763972084836716, 'bomb'),\n",
       " (-7.763972084836716, 'biggest'),\n",
       " (-7.763972084836716, 'beyond'),\n",
       " (-7.763972084836716, 'band wrote'),\n",
       " (-7.763972084836716, 'banana'),\n",
       " (-7.763972084836716, 'balanc'),\n",
       " (-7.763972084836716, 'awar'),\n",
       " (-7.763972084836716, 'assad'),\n",
       " (-7.763972084836716, 'approv'),\n",
       " (-7.763972084836716, 'apart'),\n",
       " (-7.763972084836716, 'angel'),\n",
       " (-7.763972084836716, 'alli'),\n",
       " (-7.763972084836716, 'alleg'),\n",
       " (-7.763972084836716, 'aid'),\n",
       " (-7.763972084836716, 'affair'),\n",
       " (-7.949689230631809, 'would take'),\n",
       " (-7.949689230631809, 'would like'),\n",
       " (-7.949689230631809, 'worri'),\n",
       " (-7.949689230631809, 'worker'),\n",
       " (-7.949689230631809, 'wit'),\n",
       " (-7.949689230631809, 'will'),\n",
       " (-7.949689230631809, 'whatev'),\n",
       " (-7.949689230631809, 'western'),\n",
       " (-7.949689230631809, 'wednesday'),\n",
       " (-7.949689230631809, 'wash'),\n",
       " (-7.949689230631809, 'wall'),\n",
       " (-7.949689230631809, 'walk'),\n",
       " (-7.949689230631809, 'vulner'),\n",
       " (-7.949689230631809, 'version'),\n",
       " (-7.949689230631809, 'variou'),\n",
       " (-7.949689230631809, 'upon'),\n",
       " (-7.949689230631809, 'unlik'),\n",
       " (-7.949689230631809, 'turkish'),\n",
       " (-7.949689230631809, 'troubl'),\n",
       " (-7.949689230631809, 'trip'),\n",
       " (-7.949689230631809, 'tradit'),\n",
       " (-7.949689230631809, 'tom'),\n",
       " (-7.949689230631809, 'tension'),\n",
       " (-7.949689230631809, 'take place'),\n",
       " (-7.949689230631809, 'tabl'),\n",
       " (-7.949689230631809, 'surfac'),\n",
       " (-7.949689230631809, 'suffici'),\n",
       " (-7.949689230631809, 'success'),\n",
       " (-7.949689230631809, 'subscrib'),\n",
       " (-7.949689230631809, 'studi'),\n",
       " (-7.949689230631809, 'strategi'),\n",
       " (-7.949689230631809, 'stage'),\n",
       " (-7.949689230631809, 'someon'),\n",
       " (-7.949689230631809, 'sold'),\n",
       " (-7.949689230631809, 'site'),\n",
       " (-7.949689230631809, 'signific'),\n",
       " (-7.949689230631809, 'shock'),\n",
       " (-7.949689230631809, 'seriou'),\n",
       " (-7.949689230631809, 'seri'),\n",
       " (-7.949689230631809, 'separ'),\n",
       " (-7.949689230631809, 'secretari'),\n",
       " (-7.949689230631809, 'sea'),\n",
       " (-7.949689230631809, 'scienc'),\n",
       " (-7.949689230631809, 'sacr'),\n",
       " (-7.949689230631809, 'road'),\n",
       " (-7.949689230631809, 'ride'),\n",
       " (-7.949689230631809, 'revers'),\n",
       " (-7.949689230631809, 'return'),\n",
       " (-7.949689230631809, 'request'),\n",
       " (-7.949689230631809, 'releas'),\n",
       " (-7.949689230631809, 'regular'),\n",
       " (-7.949689230631809, 'recal'),\n",
       " (-7.949689230631809, 'rape'),\n",
       " (-7.949689230631809, 'rang'),\n",
       " (-7.949689230631809, 'radio'),\n",
       " (-7.949689230631809, 'push'),\n",
       " (-7.949689230631809, 'pull'),\n",
       " (-7.949689230631809, 'propaganda'),\n",
       " (-7.949689230631809, 'produc'),\n",
       " (-7.949689230631809, 'prison'),\n",
       " (-7.949689230631809, 'print'),\n",
       " (-7.949689230631809, 'previous'),\n",
       " (-7.949689230631809, 'prevent'),\n",
       " (-7.949689230631809, 'pressur'),\n",
       " (-7.949689230631809, 'press'),\n",
       " (-7.949689230631809, 'podesta'),\n",
       " (-7.949689230631809, 'pictur'),\n",
       " (-7.949689230631809, 'petit'),\n",
       " (-7.949689230631809, 'perform'),\n",
       " (-7.949689230631809, 'peac'),\n",
       " (-7.949689230631809, 'own'),\n",
       " (-7.949689230631809, 'origin'),\n",
       " (-7.949689230631809, 'option'),\n",
       " (-7.949689230631809, 'offer'),\n",
       " (-7.949689230631809, 'nuclear program'),\n",
       " (-7.949689230631809, 'nsa'),\n",
       " (-7.949689230631809, 'north dakota'),\n",
       " (-7.949689230631809, 'necessari'),\n",
       " (-7.949689230631809, 'multipl'),\n",
       " (-7.949689230631809, 'moral'),\n",
       " (-7.949689230631809, 'moon'),\n",
       " (-7.949689230631809, 'missil'),\n",
       " (-7.949689230631809, 'metal'),\n",
       " ...]"
      ]
     },
     "execution_count": 47,
     "metadata": {},
     "output_type": "execute_result"
    }
   ],
   "source": [
    "sorted(zip(classifier.coef_[0],feature_names),reverse=True)[:2000]"
   ]
  },
  {
   "cell_type": "markdown",
   "metadata": {},
   "source": [
    "# HashingVectorizer"
   ]
  },
  {
   "cell_type": "code",
   "execution_count": 48,
   "metadata": {},
   "outputs": [],
   "source": [
    "from sklearn.feature_extraction.text import TfidfVectorizer, CountVectorizer, HashingVectorizer"
   ]
  },
  {
   "cell_type": "code",
   "execution_count": 49,
   "metadata": {},
   "outputs": [],
   "source": [
    "hs_vectorizer=HashingVectorizer(n_features=2000)\n"
   ]
  },
  {
   "cell_type": "code",
   "execution_count": 50,
   "metadata": {},
   "outputs": [],
   "source": [
    "x_hv=hs_vectorizer.fit_transform(corpus).toarray()"
   ]
  },
  {
   "cell_type": "code",
   "execution_count": 51,
   "metadata": {},
   "outputs": [
    {
     "data": {
      "text/plain": [
       "(88, 2000)"
      ]
     },
     "execution_count": 51,
     "metadata": {},
     "output_type": "execute_result"
    }
   ],
   "source": [
    "x_hv.shape"
   ]
  },
  {
   "cell_type": "code",
   "execution_count": 52,
   "metadata": {},
   "outputs": [
    {
     "data": {
      "text/plain": [
       "array([[ 0.        ,  0.        ,  0.        , ...,  0.        ,\n",
       "         0.        ,  0.        ],\n",
       "       [ 0.        ,  0.        ,  0.        , ...,  0.        ,\n",
       "         0.        , -0.01794606],\n",
       "       [ 0.        ,  0.        , -0.05725983, ...,  0.        ,\n",
       "         0.        ,  0.        ],\n",
       "       ...,\n",
       "       [ 0.        ,  0.        ,  0.        , ...,  0.        ,\n",
       "         0.        ,  0.        ],\n",
       "       [ 0.        ,  0.        ,  0.        , ...,  0.        ,\n",
       "         0.        ,  0.        ],\n",
       "       [ 0.        ,  0.        ,  0.        , ...,  0.        ,\n",
       "         0.        , -0.05612135]])"
      ]
     },
     "execution_count": 52,
     "metadata": {},
     "output_type": "execute_result"
    }
   ],
   "source": [
    "x_hv"
   ]
  },
  {
   "cell_type": "code",
   "execution_count": 53,
   "metadata": {},
   "outputs": [],
   "source": [
    "# Divide the dataset into train and test\n",
    "\n",
    "from sklearn.model_selection import train_test_split\n",
    "x1_train,x1_test,y1_train,y1_test=train_test_split(x_hv,Y,test_size=0.2,random_state=0)\n",
    "\n"
   ]
  },
  {
   "cell_type": "code",
   "execution_count": 54,
   "metadata": {},
   "outputs": [
    {
     "data": {
      "text/plain": [
       "(70, 2000)"
      ]
     },
     "execution_count": 54,
     "metadata": {},
     "output_type": "execute_result"
    }
   ],
   "source": [
    "x1_train.shape"
   ]
  },
  {
   "cell_type": "code",
   "execution_count": 55,
   "metadata": {},
   "outputs": [
    {
     "data": {
      "text/plain": [
       "(18, 2000)"
      ]
     },
     "execution_count": 55,
     "metadata": {},
     "output_type": "execute_result"
    }
   ],
   "source": [
    "x1_test.shape"
   ]
  },
  {
   "cell_type": "code",
   "execution_count": 56,
   "metadata": {},
   "outputs": [
    {
     "data": {
      "text/plain": [
       "(70,)"
      ]
     },
     "execution_count": 56,
     "metadata": {},
     "output_type": "execute_result"
    }
   ],
   "source": [
    "y1_train.shape"
   ]
  },
  {
   "cell_type": "code",
   "execution_count": 57,
   "metadata": {},
   "outputs": [
    {
     "data": {
      "text/plain": [
       "(18,)"
      ]
     },
     "execution_count": 57,
     "metadata": {},
     "output_type": "execute_result"
    }
   ],
   "source": [
    "y1_test.shape"
   ]
  },
  {
   "cell_type": "code",
   "execution_count": 58,
   "metadata": {},
   "outputs": [],
   "source": [
    "from sklearn.preprocessing import MinMaxScaler\n",
    "scaler=MinMaxScaler()\n",
    "x1_train=scaler.fit_transform(x1_train)\n",
    "x1_test=scaler.fit_transform(x1_test)"
   ]
  },
  {
   "cell_type": "code",
   "execution_count": 59,
   "metadata": {},
   "outputs": [
    {
     "data": {
      "text/plain": [
       "array([[0.48207992, 0.68729167, 0.3157129 , ..., 0.26845279, 0.79179696,\n",
       "        0.81730798],\n",
       "       [0.48207992, 0.68729167, 0.        , ..., 0.26845279, 0.79179696,\n",
       "        0.68297877],\n",
       "       [0.60227258, 0.68729167, 0.3157129 , ..., 0.46924556, 1.        ,\n",
       "        0.81730798],\n",
       "       ...,\n",
       "       [0.48207992, 0.68729167, 0.3157129 , ..., 0.26845279, 0.79179696,\n",
       "        0.29386798],\n",
       "       [0.48207992, 0.68729167, 0.3157129 , ..., 0.26845279, 0.79179696,\n",
       "        0.81730798],\n",
       "       [0.48207992, 0.68729167, 0.3157129 , ..., 0.26845279, 0.79179696,\n",
       "        0.81730798]])"
      ]
     },
     "execution_count": 59,
     "metadata": {},
     "output_type": "execute_result"
    }
   ],
   "source": [
    "x1_train"
   ]
  },
  {
   "cell_type": "code",
   "execution_count": 60,
   "metadata": {},
   "outputs": [
    {
     "data": {
      "text/plain": [
       "array([[0.        , 0.        , 0.        , ..., 0.        , 0.        ,\n",
       "        1.        ],\n",
       "       [0.        , 0.        , 1.        , ..., 0.        , 0.        ,\n",
       "        0.63816048],\n",
       "       [0.        , 0.        , 1.        , ..., 0.        , 0.        ,\n",
       "        1.        ],\n",
       "       ...,\n",
       "       [0.        , 0.        , 1.        , ..., 0.        , 0.        ,\n",
       "        0.32166017],\n",
       "       [0.        , 0.        , 1.        , ..., 0.        , 0.        ,\n",
       "        1.        ],\n",
       "       [0.        , 0.        , 1.        , ..., 0.        , 0.        ,\n",
       "        0.69176292]])"
      ]
     },
     "execution_count": 60,
     "metadata": {},
     "output_type": "execute_result"
    }
   ],
   "source": [
    "x1_test"
   ]
  },
  {
   "cell_type": "code",
   "execution_count": 61,
   "metadata": {},
   "outputs": [
    {
     "data": {
      "text/plain": [
       "(70,)"
      ]
     },
     "execution_count": 61,
     "metadata": {},
     "output_type": "execute_result"
    }
   ],
   "source": [
    "y1_train.shape"
   ]
  },
  {
   "cell_type": "code",
   "execution_count": 62,
   "metadata": {},
   "outputs": [
    {
     "data": {
      "text/plain": [
       "(18,)"
      ]
     },
     "execution_count": 62,
     "metadata": {},
     "output_type": "execute_result"
    }
   ],
   "source": [
    "y1_test.shape"
   ]
  },
  {
   "cell_type": "code",
   "execution_count": 63,
   "metadata": {},
   "outputs": [
    {
     "name": "stdout",
     "output_type": "stream",
     "text": [
      "accuracy: 0.556\n",
      "Confusion matrix without normalization\n",
      "[[7 2]\n",
      " [6 3]]\n",
      "Normalized confusion matrix\n",
      "[[0.77777778 0.22222222]\n",
      " [0.66666667 0.33333333]]\n"
     ]
    },
    {
     "data": {
      "image/png": "[encoded data removed]",
      "text/plain": [
       "<Figure size 432x288 with 2 Axes>"
      ]
     },
     "metadata": {
      "needs_background": "light"
     },
     "output_type": "display_data"
    },
    {
     "data": {
      "image/png": "[encoded data removed]",
      "text/plain": [
       "<Figure size 432x288 with 2 Axes>"
      ]
     },
     "metadata": {
      "needs_background": "light"
     },
     "output_type": "display_data"
    }
   ],
   "source": [
    "classifier2=classifier.fit(x1_train,y1_train)\n",
    "y_pred=classifier2.predict(x1_test)\n",
    "score=metrics.accuracy_score(y1_test,y_pred)\n",
    "print(\"accuracy: %0.3f\"% score)\n",
    "\n",
    "\n",
    "from sklearn.metrics import plot_confusion_matrix\n",
    "titles_options = [(\"Confusion matrix without normalization\", None),\n",
    "                  (\"Normalized confusion matrix\", 'true')]\n",
    "for title, normalize in titles_options: \n",
    "    disp=plot_confusion_matrix(classifier2,x1_test,y1_test,\n",
    "                              cmap=plt.cm.Blues,\n",
    "                              normalize=normalize)\n",
    "    disp.ax_.set_title(title)\n",
    "\n",
    "    print(title)\n",
    "    print(disp.confusion_matrix)"
   ]
  },
  {
   "cell_type": "code",
   "execution_count": null,
   "metadata": {},
   "outputs": [],
   "source": []
  },
  {
   "cell_type": "code",
   "execution_count": null,
   "metadata": {},
   "outputs": [],
   "source": []
  }
 ],
 "metadata": {
  "kernelspec": {
   "display_name": "Python 3",
   "language": "python",
   "name": "python3"
  },
  "language_info": {
   "codemirror_mode": {
    "name": "ipython",
    "version": 3
   },
   "file_extension": ".py",
   "mimetype": "text/x-python",
   "name": "python",
   "nbconvert_exporter": "python",
   "pygments_lexer": "ipython3",
   "version": "3.7.4"
  }
 },
 "nbformat": 4,
 "nbformat_minor": 2
}
